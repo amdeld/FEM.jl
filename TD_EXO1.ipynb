{
 "cells": [
  {
   "cell_type": "markdown",
   "metadata": {},
   "source": [
    "# Exercice de TD n°1\n",
    "Sous https://mybinder.org/v2/gh/amdeld/FEM.jl/master\n",
    "exécuter **TD_EXO1.ipynb**  \n",
    "(cela peut prendre du temps, éventuellement attendre l'installation et la précompilation; il faut voir les logs(cliquer sur show))"
   ]
  },
  {
   "cell_type": "markdown",
   "metadata": {},
   "source": [
    "<img src=\"https://raw.githubusercontent.com/amdeld/FEM.jl/master/img/2_rods_mesh.png\" alt=\"Drawing\" style=\"width: 600px;\"/>\n"
   ]
  },
  {
   "cell_type": "markdown",
   "metadata": {},
   "source": [
    "## 1/ Donner les matrices de rigidité élémentaires en repère local"
   ]
  },
  {
   "cell_type": "markdown",
   "metadata": {},
   "source": [
    "Rappel: \n",
    "\n",
    "$\\left[k_e\\right]=\\frac{ES}{L}\\left[\\begin{array}{cccc}\n",
    "1 & 0 & -1 & 0\\\\\n",
    "0 & 0 & 0 & 0\\\\\n",
    "-1 & 0 & 1 & 0\\\\\n",
    "0 & 0 & 0 & 0\n",
    "\\end{array}\\right]$\n",
    "\n",
    "Elément 1:\n",
    "\n",
    "$[k_1]=\\frac{E_1S_1}{L_1}\\left[\\begin{array}{cccc}\n",
    "1 & 0 & -1 & 0\\\\\n",
    "0 & 0 & 0 & 0\\\\\n",
    "-1 & 0 & 1 & 0\\\\\n",
    "0 & 0 & 0 & 0\n",
    "\\end{array}\\right]=\\frac{ES\\sqrt2}{L\\sqrt2}\\left[\\begin{array}{cccc}\n",
    "1 & 0 & -1 & 0\\\\\n",
    "0 & 0 & 0 & 0\\\\\n",
    "-1 & 0 & 1 & 0\\\\\n",
    "0 & 0 & 0 & 0\n",
    "\\end{array}\\right]=\\frac{ES}{L}\\left[\\begin{array}{cccc}\n",
    "1 & 0 & -1 & 0\\\\\n",
    "0 & 0 & 0 & 0\\\\\n",
    "-1 & 0 & 1 & 0\\\\\n",
    "0 & 0 & 0 & 0\n",
    "\\end{array}\\right]$\n",
    "\n",
    "Elément 2: \n",
    "\n",
    "$[k_2]=\\frac{E_2S_2}{L_2}\\left[\\begin{array}{cccc}\n",
    "1 & 0 & -1 & 0\\\\\n",
    "0 & 0 & 0 & 0\\\\\n",
    "-1 & 0 & 1 & 0\\\\\n",
    "0 & 0 & 0 & 0\n",
    "\\end{array}\\right]=\\frac{ES}{L}\\left[\\begin{array}{cccc}\n",
    "1 & 0 & -1 & 0\\\\\n",
    "0 & 0 & 0 & 0\\\\\n",
    "-1 & 0 & 1 & 0\\\\\n",
    "0 & 0 & 0 & 0\n",
    "\\end{array}\\right]$"
   ]
  },
  {
   "cell_type": "markdown",
   "metadata": {},
   "source": [
    "## Application numérique"
   ]
  },
  {
   "cell_type": "code",
   "execution_count": 1,
   "metadata": {},
   "outputs": [],
   "source": [
    "#Système d'unités : T/mm/s/K\n",
    "#Paramètres\n",
    "const L=10000. # longueur en mm\n",
    "const S=100. # aire de la section en mm^2\n",
    "const E=210000. # module d'élasticité en MPa [acier]\n",
    "const F=10000. # module de la force en N\n",
    "const σy=210 # limite élastique\n",
    "const SEC=3; # coefficient de sécurité"
   ]
  },
  {
   "cell_type": "code",
   "execution_count": 2,
   "metadata": {},
   "outputs": [
    {
     "data": {
      "text/plain": [
       "4×4 Array{Float64,2}:\n",
       "  2100.0  0.0  -2100.0  0.0\n",
       "     0.0  0.0      0.0  0.0\n",
       " -2100.0  0.0   2100.0  0.0\n",
       "     0.0  0.0      0.0  0.0"
      ]
     },
     "execution_count": 2,
     "metadata": {},
     "output_type": "execute_result"
    }
   ],
   "source": [
    "k1=E*sqrt(2)*S/(sqrt(2)*L)*[1 0 -1 0;0 0 0 0;-1 0 1 0;0 0 0 0]"
   ]
  },
  {
   "cell_type": "code",
   "execution_count": 3,
   "metadata": {},
   "outputs": [
    {
     "data": {
      "text/plain": [
       "4×4 Array{Float64,2}:\n",
       "  2100.0  0.0  -2100.0  0.0\n",
       "     0.0  0.0      0.0  0.0\n",
       " -2100.0  0.0   2100.0  0.0\n",
       "     0.0  0.0      0.0  0.0"
      ]
     },
     "execution_count": 3,
     "metadata": {},
     "output_type": "execute_result"
    }
   ],
   "source": [
    "k2=E*S/L*[1 0 -1 0;0 0 0 0;-1 0 1 0;0 0 0 0]"
   ]
  },
  {
   "cell_type": "markdown",
   "metadata": {},
   "source": [
    "## 2/ Calculer les matrices de rigidité élémentaires en repère global"
   ]
  },
  {
   "cell_type": "markdown",
   "metadata": {},
   "source": [
    "Rappel: \n",
    "\n",
    "$[K_e]=[R_e]^{T}[k_e][R_e]$  \n",
    "$[K_e]=\\frac{ES}{L}\\left[\n",
    "\\begin{array}{cccc}\n",
    "cos^2θ & cosθsinθ & -cos^2θ & -cosθsinθ \\\\\n",
    "cosθsinθ & sin^2θ & -cosθsinθ & -sin^2θ \\\\\n",
    "-cos^2θ & -cosθsinθ & cos^2θ & cosθsinθ \\\\\n",
    "-cosθsinθ & -sin^2θ & sinθcosθ & sin^2θ \\\\\n",
    "\\end{array}\n",
    "\\right]$\n",
    "\n",
    "Elément 1 (θ1=θ=45°):\n",
    "\n",
    "$[K_1]=\\frac{ES}{L}\\left[\n",
    "\\begin{array}{cccc}\n",
    "0.5 & 0.5 & -0.5 & -0.5 \\\\\n",
    "0.5 & 0.5 & -0.5 & -0.5 \\\\\n",
    "-0.5 & -0.5 & 0.5 & 0.5 \\\\\n",
    "-0.5 & -0.5 & 0.5 & 0.5 \\\\\n",
    "\\end{array}\n",
    "\\right]$\n",
    "\n",
    "Elément 2 (θ2=θ=0°):\n",
    "\n",
    "$[K_2]=\\frac{ES}{L}\\left[\\begin{array}{cccc}\n",
    "1 & 0 & -1 & 0\\\\\n",
    "0 & 0 & 0 & 0\\\\\n",
    "-1 & 0 & 1 & 0\\\\\n",
    "0 & 0 & 0 & 0\n",
    "\\end{array}\\right]$"
   ]
  },
  {
   "cell_type": "markdown",
   "metadata": {},
   "source": [
    "## Application numérique"
   ]
  },
  {
   "cell_type": "code",
   "execution_count": 4,
   "metadata": {},
   "outputs": [
    {
     "data": {
      "text/plain": [
       "4×4 Array{Float64,2}:\n",
       "  1050.0   1050.0  -1050.0  -1050.0\n",
       "  1050.0   1050.0  -1050.0  -1050.0\n",
       " -1050.0  -1050.0   1050.0   1050.0\n",
       " -1050.0  -1050.0   1050.0   1050.0"
      ]
     },
     "execution_count": 4,
     "metadata": {},
     "output_type": "execute_result"
    }
   ],
   "source": [
    "θ=pi/4\n",
    "K1=E*S/L*[\n",
    "cos(θ)^2 sin(θ)*cos(θ) -cos(θ)^2 -sin(θ)*cos(θ)\n",
    "sin(θ)*cos(θ) sin(θ)^2 -sin(θ)*cos(θ) -sin(θ)^2\n",
    "-cos(θ)^2 -sin(θ)*cos(θ) cos(θ)^2 sin(θ)*cos(θ)\n",
    "-sin(θ)*cos(θ) -sin(θ)^2 sin(θ)*cos(θ) sin(θ)^2]"
   ]
  },
  {
   "cell_type": "code",
   "execution_count": 5,
   "metadata": {},
   "outputs": [
    {
     "data": {
      "text/plain": [
       "4×4 Array{Float64,2}:\n",
       "  2100.0   0.0  -2100.0  -0.0\n",
       "     0.0   0.0     -0.0  -0.0\n",
       " -2100.0  -0.0   2100.0   0.0\n",
       "    -0.0  -0.0      0.0   0.0"
      ]
     },
     "execution_count": 5,
     "metadata": {},
     "output_type": "execute_result"
    }
   ],
   "source": [
    "θ=0.\n",
    "K2=E*S/L*[\n",
    "cos(θ)^2 sin(θ)*cos(θ) -cos(θ)^2 -sin(θ)*cos(θ)\n",
    "sin(θ)*cos(θ) sin(θ)^2 -sin(θ)*cos(θ) -sin(θ)^2\n",
    "-cos(θ)^2 -sin(θ)*cos(θ) cos(θ)^2 sin(θ)*cos(θ)\n",
    "-sin(θ)*cos(θ) -sin(θ)^2 sin(θ)*cos(θ) sin(θ)^2]"
   ]
  },
  {
   "cell_type": "markdown",
   "metadata": {},
   "source": [
    "## 3/ Déterminer les matrices booléennes d’assemblage. En déduire la matrice globale de rigidité de la structure en repère global"
   ]
  },
  {
   "cell_type": "markdown",
   "metadata": {},
   "source": [
    "Rappel:\n",
    "\n",
    "$\\left\\{U_e\\right\\}=[A_e]\\left\\{ U\\right\\}$  \n",
    "$[K_e]^{p}=[A_e]^{t}[K_e][A_e]$  \n",
    "$[K]=\\Sigma[K_e]^{p}$\n",
    "\n",
    "Matrices booléennes d'assemblage\n",
    "\n",
    "Elément 1:  \n",
    "\n",
    "$\\left\\{ U_{1}\\right\\} =\\left[A_{1}\\right]\\left\\{ U\\right\\} $\n",
    "\n",
    "$\\left\\{ \\begin{array}{c}\n",
    "^{1}U_{1}\\\\\n",
    "^{1}U_{2}\\\\\n",
    "^{3}U_{1}\\\\\n",
    "^{3}U_{2}\n",
    "\\end{array}\\right\\} =\\left[\\begin{array}{cccccc}\n",
    "1 & 0 & 0 & 0 & 0 & 0\\\\\n",
    "0 & 1 & 0 & 0 & 0 & 0\\\\\n",
    "0 & 0 & 0 & 0 & 1 & 0\\\\\n",
    "0 & 0 & 0 & 0 & 0 & 1\n",
    "\\end{array}\\right]\\left\\{ \\begin{array}{c}\n",
    "^{1}U_{1}\\\\\n",
    "^{1}U_{2}\\\\\n",
    "^{2}U_{1}\\\\\n",
    "^{2}U_{2}\\\\\n",
    "^{3}U_{1}\\\\\n",
    "^{3}U_{2}\n",
    "\\end{array}\\right\\} $\n",
    "\n",
    "$[A_{1}]=\\left[\\begin{array}{cccccc}\n",
    "1 & 0 & 0 & 0 & 0 & 0\\\\\n",
    "0 & 1 & 0 & 0 & 0 & 0\\\\\n",
    "0 & 0 & 0 & 0 & 1 & 0\\\\\n",
    "0 & 0 & 0 & 0 & 0 & 1\n",
    "\\end{array}\\right]$\n",
    "\n",
    "Elément 2:  \n",
    "\n",
    "$\\left\\{ U_{2}\\right\\} =\\left[A_{2}\\right]\\left\\{ U\\right\\} $\n",
    "\n",
    "$\\left\\{ \\begin{array}{c}\n",
    "^{2}U_{1}\\\\\n",
    "^{2}U_{2}\\\\\n",
    "^{3}U_{1}\\\\\n",
    "^{3}U_{2}\n",
    "\\end{array}\\right\\} =\\left[\\begin{array}{cccccc}\n",
    "0 & 0 & 1 & 0 & 0 & 0\\\\\n",
    "0 & 0 & 0 & 1 & 0 & 0\\\\\n",
    "0 & 0 & 0 & 0 & 1 & 0\\\\\n",
    "0 & 0 & 0 & 0 & 0 & 1\n",
    "\\end{array}\\right]\\left\\{ \\begin{array}{c}\n",
    "^{1}U_{1}\\\\\n",
    "^{1}U_{2}\\\\\n",
    "^{2}U_{1}\\\\\n",
    "^{2}U_{2}\\\\\n",
    "^{3}U_{1}\\\\\n",
    "^{3}U_{2}\n",
    "\\end{array}\\right\\} $\n",
    "\n",
    "$[A_{2}]=\\left[\\begin{array}{cccccc}\n",
    "0 & 0 & 1 & 0 & 0 & 0\\\\\n",
    "0 & 0 & 0 & 1 & 0 & 0\\\\\n",
    "0 & 0 & 0 & 0 & 1 & 0\\\\\n",
    "0 & 0 & 0 & 0 & 0 & 1\n",
    "\\end{array}\\right]$\n",
    "\n",
    "Matrices positionnées\n",
    "\n",
    "Elément 1:  \n",
    "\n",
    "$\\left[K_{1}\\right]^{P}=\\frac{ES}{2L}\\left[\\begin{array}{cccccc}\n",
    "1 & 1 & 0 & 0 & -1 & -1\\\\\n",
    "1 & 1 & 0 & 0 & -1 & -1\\\\\n",
    "0 & 0 & 0 & 0 & 0 & 0\\\\\n",
    "0 & 0 & 0 & 0 & 0 & 0\\\\\n",
    "-1 & -1 & 0 & 0 & 1 & 1\\\\\n",
    "-1 & -1 & 0 & 0 & 1 & 1\n",
    "\\end{array}\\right]$\n",
    "\n",
    "Elément 2:\n",
    "\n",
    "$\\left[K_{2}\\right]^{P}=\\frac{ES}{L}\\left[\\begin{array}{cccccc}\n",
    "0 & 0 & 0 & 0 & 0 & 0\\\\\n",
    "0 & 0 & 0 & 0 & 0 & 0\\\\\n",
    "0 & 0 & 1 & 0 & -1 & 0\\\\\n",
    "0 & 0 & 0 & 0 & 0 & 0\\\\\n",
    "0 & 0 & -1 & 0 & 1 & 0\\\\\n",
    "0 & 0 & 0 & 0 & 0 & 0\n",
    "\\end{array}\\right]$\n",
    "\n",
    "Matrice d'assemblage:\n",
    "\n",
    "$\\left[K\\right]=\\frac{ES}{2L}\\left[\\begin{array}{cccccc}\n",
    "1 & 1 & 0 & 0 & -1 & -1\\\\\n",
    "1 & 1 & 0 & 0 & -1 & -1\\\\\n",
    "0 & 0 & 2 & 0 & -2 & 0\\\\\n",
    "0 & 0 & 0 & 0 & 0 & 0\\\\\n",
    "-1 & -1 & -2 & 0 & 3 & 1\\\\\n",
    "-1 & -1 & 0 & 0 & 1 & 1\n",
    "\\end{array}\\right]$"
   ]
  },
  {
   "cell_type": "markdown",
   "metadata": {},
   "source": [
    "## Application numérique"
   ]
  },
  {
   "cell_type": "code",
   "execution_count": 6,
   "metadata": {},
   "outputs": [
    {
     "data": {
      "text/plain": [
       "4×6 Array{Int64,2}:\n",
       " 1  0  0  0  0  0\n",
       " 0  1  0  0  0  0\n",
       " 0  0  0  0  1  0\n",
       " 0  0  0  0  0  1"
      ]
     },
     "execution_count": 6,
     "metadata": {},
     "output_type": "execute_result"
    }
   ],
   "source": [
    "A1=[1 0 0 0 0 0;0 1 0 0 0 0 ;0 0 0 0 1 0;0 0 0 0 0 1]"
   ]
  },
  {
   "cell_type": "code",
   "execution_count": 7,
   "metadata": {},
   "outputs": [
    {
     "data": {
      "text/plain": [
       "4×6 Array{Int64,2}:\n",
       " 0  0  1  0  0  0\n",
       " 0  0  0  1  0  0\n",
       " 0  0  0  0  1  0\n",
       " 0  0  0  0  0  1"
      ]
     },
     "execution_count": 7,
     "metadata": {},
     "output_type": "execute_result"
    }
   ],
   "source": [
    "A2=[0 0 1 0 0 0;0 0 0 1 0 0 ;0 0 0 0 1 0;0 0 0 0 0 1]"
   ]
  },
  {
   "cell_type": "code",
   "execution_count": 8,
   "metadata": {},
   "outputs": [
    {
     "data": {
      "text/plain": [
       "6×6 Array{Float64,2}:\n",
       "  1050.0   1050.0  0.0  0.0  -1050.0  -1050.0\n",
       "  1050.0   1050.0  0.0  0.0  -1050.0  -1050.0\n",
       "     0.0      0.0  0.0  0.0      0.0      0.0\n",
       "     0.0      0.0  0.0  0.0      0.0      0.0\n",
       " -1050.0  -1050.0  0.0  0.0   1050.0   1050.0\n",
       " -1050.0  -1050.0  0.0  0.0   1050.0   1050.0"
      ]
     },
     "execution_count": 8,
     "metadata": {},
     "output_type": "execute_result"
    }
   ],
   "source": [
    "K1P=A1'*K1*A1"
   ]
  },
  {
   "cell_type": "code",
   "execution_count": 9,
   "metadata": {},
   "outputs": [
    {
     "data": {
      "text/plain": [
       "6×6 Array{Float64,2}:\n",
       " 0.0  0.0      0.0  0.0      0.0  0.0\n",
       " 0.0  0.0      0.0  0.0      0.0  0.0\n",
       " 0.0  0.0   2100.0  0.0  -2100.0  0.0\n",
       " 0.0  0.0      0.0  0.0      0.0  0.0\n",
       " 0.0  0.0  -2100.0  0.0   2100.0  0.0\n",
       " 0.0  0.0      0.0  0.0      0.0  0.0"
      ]
     },
     "execution_count": 9,
     "metadata": {},
     "output_type": "execute_result"
    }
   ],
   "source": [
    "K2P=A2'*K2*A2"
   ]
  },
  {
   "cell_type": "code",
   "execution_count": 10,
   "metadata": {},
   "outputs": [
    {
     "data": {
      "text/plain": [
       "6×6 Array{Float64,2}:\n",
       "  1050.0   1050.0      0.0  0.0  -1050.0  -1050.0\n",
       "  1050.0   1050.0      0.0  0.0  -1050.0  -1050.0\n",
       "     0.0      0.0   2100.0  0.0  -2100.0      0.0\n",
       "     0.0      0.0      0.0  0.0      0.0      0.0\n",
       " -1050.0  -1050.0  -2100.0  0.0   3150.0   1050.0\n",
       " -1050.0  -1050.0      0.0  0.0   1050.0   1050.0"
      ]
     },
     "execution_count": 10,
     "metadata": {},
     "output_type": "execute_result"
    }
   ],
   "source": [
    "K=K1P+K2P"
   ]
  },
  {
   "cell_type": "markdown",
   "metadata": {},
   "source": [
    "## 4/Ecriture du système matriciel et Résolution  "
   ]
  },
  {
   "cell_type": "markdown",
   "metadata": {},
   "source": [
    "Rappel: \n",
    "\n",
    "$[K]\\{U\\}=\\{F\\}$\n",
    "\n",
    "Système matriciel: \n",
    "\n",
    "$\\frac{ES}{2L}\\left[\\begin{array}{cccccc}\n",
    "1 & 1 & 0 & 0 & -1 & -1\\\\\n",
    "1 & 1 & 0 & 0 & -1 & -1\\\\\n",
    "0 & 0 & 2 & 0 & -2 & 0\\\\\n",
    "0 & 0 & 0 & 0 & 0 & 0\\\\\n",
    "-1 & -1 & -2 & 0 & 3 & 1\\\\\n",
    "-1 & -1 & 0 & 0 & 1 & 1\n",
    "\\end{array}\\right]\n",
    "\\left\\{ \\begin{array}{c}\n",
    "^{1}U_{1}\\\\\n",
    "^{1}U_{2}\\\\\n",
    "^{2}U_{1}\\\\\n",
    "^{2}U_{2}\\\\\n",
    "^{3}U_{1}\\\\\n",
    "^{3}U_{2}\n",
    "\\end{array}\\right\\}=\\left\\{ \\begin{array}{c}\n",
    "^{1}F_{1}\\\\\n",
    "^{1}F_{2}\\\\\n",
    "^{2}F_{1}\\\\\n",
    "^{2}F_{2}\\\\\n",
    "^{3}F_{1}\\\\\n",
    "^{3}F_{2}\n",
    "\\end{array}\\right\\}$ \n",
    "\n",
    "En intégrant les conditions aux frontières, on trouve: \n",
    "\n",
    "$\\frac{ES}{2L}\\left[\\begin{array}{cccccc}\n",
    "1 & 1 & 0 & 0 & -1 & -1\\\\\n",
    "1 & 1 & 0 & 0 & -1 & -1\\\\\n",
    "0 & 0 & 2 & 0 & -2 & 0\\\\\n",
    "0 & 0 & 0 & 0 & 0 & 0\\\\\n",
    "-1 & -1 & -2 & 0 & 3 & 1\\\\\n",
    "-1 & -1 & 0 & 0 & 1 & 1\n",
    "\\end{array}\\right]\n",
    "\\left\\{ \\begin{array}{c}\n",
    "0\\\\\n",
    "0\\\\\n",
    "0\\\\\n",
    "0\\\\\n",
    "^{3}U_{1}\\\\\n",
    "^{3}U_{2}\n",
    "\\end{array}\\right\\}=\\left\\{ \\begin{array}{c}\n",
    "^{1}R_{1}\\\\\n",
    "^{1}R_{2}\\\\\n",
    "^{2}R_{1}\\\\\n",
    "^{2}R_{2}\\\\\n",
    "0\\\\\n",
    "-F\n",
    "\\end{array}\\right\\}$  \n",
    "\n",
    "En développant, on trouve alors le système à 6 équations linéaires suivant:\n",
    "\n",
    "$\\begin{array}{c}\n",
    "(1)\\\\\n",
    "(2)\\\\\n",
    "(3)\\\\\n",
    "(4)\\\\\n",
    "(5)\\\\\n",
    "(6)\\\\\n",
    "\\end{array}\n",
    " \\begin{cases}\n",
    "-\\frac{ES}{2L}(^{3}U_{1}+^{3}U_{2}) =\\ ^{1}R_{1}\\\\\n",
    "-\\frac{ES}{2L}(^{3}U_{1}+^{3}U_{2})=\\ ^{1}R_{2}\\\\\n",
    "-\\frac{ES}{2L}^{3}U_{1}=\\ ^{2}R_{1}\\\\\n",
    "0 =\\ ^{2}R_{2}\\\\\n",
    "\\frac{ES}{2L}(3^{3}U_{1}+^{3}U_{2})=0\\\\\n",
    "\\frac{ES}{2L}(^{3}U_{1}+^{3}U_{2})=-F\n",
    "\\end{cases}$\n",
    "\n",
    "$\\begin{array}{c}\n",
    "(1)\\\\\n",
    "(2)\\\\\n",
    "(3)\\\\\n",
    "(4)\\\\\n",
    "(5)-(6)\\\\\n",
    "(6)\\\\\n",
    "\\end{array}\n",
    " \\begin{cases}\n",
    "^{1}R_{1}=F \\ (=10000 \\ N)\\\\\n",
    "^{1}R_{2}=F \\ (=10000 \\ N)\\\\\n",
    "^{2}R_{1}=-F \\ (=-10000 \\ N)\\\\\n",
    "^{2}R_{2}=0\\\\\n",
    "^{3}U_{1}=\\frac{FL}{ES} \\ (=4,76 \\ mm)\\\\\n",
    "^{3}U_{2}=-3\\frac{FL}{ES} \\ (=-14,29 \\ mm)\n",
    "\\end{cases}$"
   ]
  },
  {
   "cell_type": "markdown",
   "metadata": {},
   "source": [
    "## Application numérique"
   ]
  },
  {
   "cell_type": "code",
   "execution_count": 11,
   "metadata": {},
   "outputs": [
    {
     "data": {
      "text/plain": [
       "2-element Array{Float64,1}:\n",
       "   4.761904761904763\n",
       " -14.28571428571429"
      ]
     },
     "execution_count": 11,
     "metadata": {},
     "output_type": "execute_result"
    }
   ],
   "source": [
    "# Résolution en déplacement\n",
    "K_s=K[5:6,5:6]\n",
    "F_s=[0, -F]\n",
    "U_s=K_s\\F_s"
   ]
  },
  {
   "cell_type": "code",
   "execution_count": 12,
   "metadata": {},
   "outputs": [
    {
     "data": {
      "text/plain": [
       "6-element Array{Float64,1}:\n",
       "  10000.000000000002\n",
       "  10000.0\n",
       " -10000.000000000002\n",
       "      0.0\n",
       "     -1.8189894035458565e-12\n",
       " -10000.0"
      ]
     },
     "execution_count": 12,
     "metadata": {},
     "output_type": "execute_result"
    }
   ],
   "source": [
    "#Résolution en effort\n",
    "U=[0, 0, 0, 0, U_s[1], U_s[2]]\n",
    "K*U"
   ]
  },
  {
   "cell_type": "markdown",
   "metadata": {},
   "source": [
    "<img src=\"https://raw.githubusercontent.com/amdeld/FEM.jl/master/img/2_rods_dispX.png\" alt=\"Drawing\" style=\"width: 600px;\"/>\n"
   ]
  },
  {
   "cell_type": "markdown",
   "metadata": {},
   "source": [
    "<img src=\"https://raw.githubusercontent.com/amdeld/FEM.jl/master/img/2_rods_dispY.png\" alt=\"Drawing\" style=\"width: 600px;\"/>\n"
   ]
  },
  {
   "cell_type": "markdown",
   "metadata": {},
   "source": [
    "## 5/Calculer les contraintes/déformations/tensions dans les barres ? "
   ]
  },
  {
   "cell_type": "markdown",
   "metadata": {},
   "source": [
    "Rappel:\n",
    "\n",
    "$\\epsilon_e=\\frac{^{j}u_1-^{i}u_1}{L}$  \n",
    "$\\sigma_e=E_e\\epsilon_e$  \n",
    "$f_e = \\sigma_e S_e$\n",
    "\n",
    "avec \n",
    "\n",
    "$^{i}u_1=cosθ^{i}U_1+sinθ^{i}U_2$  \n",
    "$^{j}u_1=cosθ^{j}U_1+sinθ^{j}U_2$\n",
    "\n",
    "\n",
    "Elément 1 (θ=45°, $^{1}U_1=0,\\ ^{1}U_2=0,\\ ^{3}U_{1}=4,76,\\ ^{3}U_{2}=-14,29$):  \n",
    "\n",
    "$^{1}u_1=0$  \n",
    "$^{3}u_1=\\frac{\\sqrt 2}{2}(^{3}U_1+^{3}U_2)=-\\sqrt 2\\frac{FL}{ES} \\ (=-6,73 \\ mm)$  \n",
    "$\\epsilon_1=\\frac{^{3}u_1-^{1}u_1}{\\sqrt2L}=-\\frac{F}{ES} \\ (= -4,76 \\ 10^{-4})$  \n",
    "$\\sigma_1=E\\epsilon_1 \\ (=-100 \\ MPa)$  \n",
    "$f_1=\\sigma_1 S_1 = \\sigma_1 \\sqrt 2 S \\ (= -14142 \\ N)$\n",
    "\n",
    "Elément 2 (θ=0°, $^{2}U_1=\\ ^{2}U_2=0,\\ ^{3}U_{1}=4,76,\\ ^{3}U_{2}=-14,29$):  \n",
    "\n",
    "$^{2}u_1=0$  \n",
    "$^{3}u_1=\\ ^{3}U_1 \\ (=4,76 \\ mm)$  \n",
    "$\\epsilon_2=\\frac{^{3}u_1-^{2}u_1}{L}=\\frac{F}{ES} \\ (= 4,76 \\ 10^{-4})$  \n",
    "$\\sigma_2=E\\epsilon_2 \\ (=100 \\ MPa)$  \n",
    "$f_2=\\sigma_2 S_2 = \\sigma_2 S \\ (= 14142 \\ N)$\n"
   ]
  },
  {
   "cell_type": "markdown",
   "metadata": {},
   "source": [
    "## Application numérique"
   ]
  },
  {
   "cell_type": "code",
   "execution_count": 13,
   "metadata": {},
   "outputs": [
    {
     "data": {
      "text/plain": [
       "-0.0004761904761904762"
      ]
     },
     "execution_count": 13,
     "metadata": {},
     "output_type": "execute_result"
    }
   ],
   "source": [
    "ϵ1= -F/(E*S)"
   ]
  },
  {
   "cell_type": "code",
   "execution_count": 14,
   "metadata": {},
   "outputs": [
    {
     "data": {
      "text/plain": [
       "-100.0"
      ]
     },
     "execution_count": 14,
     "metadata": {},
     "output_type": "execute_result"
    }
   ],
   "source": [
    "σ1=E*ϵ1"
   ]
  },
  {
   "cell_type": "code",
   "execution_count": 15,
   "metadata": {},
   "outputs": [
    {
     "data": {
      "text/plain": [
       "-14142.135623730952"
      ]
     },
     "execution_count": 15,
     "metadata": {},
     "output_type": "execute_result"
    }
   ],
   "source": [
    "f1=σ1*√2*S "
   ]
  },
  {
   "cell_type": "code",
   "execution_count": 16,
   "metadata": {},
   "outputs": [
    {
     "data": {
      "text/plain": [
       "0.0004761904761904762"
      ]
     },
     "execution_count": 16,
     "metadata": {},
     "output_type": "execute_result"
    }
   ],
   "source": [
    "ϵ2= F/(E*S)"
   ]
  },
  {
   "cell_type": "code",
   "execution_count": 17,
   "metadata": {},
   "outputs": [
    {
     "data": {
      "text/plain": [
       "100.0"
      ]
     },
     "execution_count": 17,
     "metadata": {},
     "output_type": "execute_result"
    }
   ],
   "source": [
    "σ2=E*ϵ2"
   ]
  },
  {
   "cell_type": "code",
   "execution_count": 18,
   "metadata": {},
   "outputs": [
    {
     "data": {
      "text/plain": [
       "10000.0"
      ]
     },
     "execution_count": 18,
     "metadata": {},
     "output_type": "execute_result"
    }
   ],
   "source": [
    "f2=σ2*S"
   ]
  },
  {
   "cell_type": "markdown",
   "metadata": {},
   "source": [
    "<img src=\"https://raw.githubusercontent.com/amdeld/FEM.jl/master/img/2_rods_sigma.png\" alt=\"Drawing\" style=\"width: 600px;\"/>\n"
   ]
  },
  {
   "cell_type": "markdown",
   "metadata": {},
   "source": [
    "## La conception est-elle satisfaisante?"
   ]
  },
  {
   "cell_type": "code",
   "execution_count": 19,
   "metadata": {},
   "outputs": [
    {
     "data": {
      "text/plain": [
       "false"
      ]
     },
     "execution_count": 19,
     "metadata": {},
     "output_type": "execute_result"
    }
   ],
   "source": [
    "abs(σ1)< σy/SEC && abs(σ2)< σy/SEC"
   ]
  }
 ],
 "metadata": {
  "kernelspec": {
   "display_name": "Julia 1.5.3",
   "language": "julia",
   "name": "julia-1.5"
  },
  "language_info": {
   "file_extension": ".jl",
   "mimetype": "application/julia",
   "name": "julia",
   "version": "1.5.3"
  }
 },
 "nbformat": 4,
 "nbformat_minor": 4
}
