{
 "cells": [
  {
   "cell_type": "markdown",
   "metadata": {},
   "source": [
    "# Où suis-je ?"
   ]
  },
  {
   "cell_type": "code",
   "execution_count": 1,
   "metadata": {},
   "outputs": [
    {
     "data": {
      "text/plain": "\"d:\\\\Users\\\\Administrator\\\\OneDrive\\\\Documents\\\\Julia\\\\FEM\""
     },
     "execution_count": 1,
     "metadata": {},
     "output_type": "execute_result"
    }
   ],
   "source": [
    "pwd()"
   ]
  },
  {
   "cell_type": "markdown",
   "metadata": {},
   "source": [
    "# Se positionner dans son répertoire de travail (dossier de téléchargement et/ou google drive)"
   ]
  },
  {
   "cell_type": "code",
   "execution_count": 2,
   "metadata": {},
   "outputs": [],
   "source": [
    "cd(\"G:\\\\My Drive\\\\\")"
   ]
  },
  {
   "cell_type": "markdown",
   "metadata": {},
   "source": [
    "# Listing des paquets disponibles dans l'environnement actuel \r\n",
    "Si la librairie LibFEM est absente on peut utiliser les 2 commandes suivantes indiféremmen using Pkg;\r\n",
    "Pkg.add(PackageSpec(url=\"https://github.com/amdeld/LibFEM.jl\")) ou \r\n",
    "]add https://github.com/amdeld/LibFEM.jl\r\n",
    " "
   ]
  },
  {
   "cell_type": "code",
   "execution_count": 3,
   "metadata": {},
   "outputs": [
    {
     "name": "stdout",
     "output_type": "stream",
     "text": [
      "\u001b[32m\u001b[1mStatus\u001b[22m\u001b[39m `D:\\Users\\Administrator\\OneDrive\\Documents\\Julia\\FEM\\Project.toml`\n",
      "\u001b[90m [c601a237] \u001b[39m\u001b[37mInteract v0.10.3\u001b[39m\n",
      " \u001b[90m [3625dbae] \u001b[39m\u001b[37mLibFEM v0.1.0 `https://github.com/amdeld/LibFEM.jl#master`\u001b[39m\n",
      " \u001b[90m [91a5bcdd] \u001b[39m\u001b[37mPlots v1.6.3\u001b[39m\n",
      " \u001b[90m [0f1e0344] \u001b[39m\u001b[37mWebIO v0.8.15\u001b[39m\n"
     ]
    }
   ],
   "source": [
    "]st\r\n"
   ]
  },
  {
   "cell_type": "markdown",
   "metadata": {},
   "source": [
    "# On charge ensuite la librairie LibFEM avec la commande suivante:"
   ]
  },
  {
   "cell_type": "code",
   "execution_count": 4,
   "metadata": {},
   "outputs": [],
   "source": [
    "using LibFEM # ,Plots"
   ]
  },
  {
   "cell_type": "markdown",
   "metadata": {},
   "source": [
    "# Quelques informations quant au cas à traiter"
   ]
  },
  {
   "cell_type": "raw",
   "metadata": {},
   "source": [
    "# Units system mm/tonne/s/K\n",
    "# ===============================================================================\n",
    "# 2D FRAME\n",
    "# ===============================================================================\n",
    "# (2)---(3)\n",
    "#      /\n",
    "#     /\n",
    "#    /\n",
    "#   /\n",
    "#  /\n",
    "# /\n",
    "#(1)\n",
    "# ===============================================================================\n",
    "# The element used here is a linear 2D straight truss with constant cross section\n",
    "# The degrees of freedom are the u & v displacements \n",
    "# ==============================================================================="
   ]
  },
  {
   "cell_type": "code",
   "execution_count": 6,
   "metadata": {},
   "outputs": [],
   "source": [
    "#PARAMETERS\n",
    "const L=10000. #length in mm\n",
    "const A=100. #cross-sectional area in mm^2\n",
    "const E=210000. #modulus of elasticity in MPa [steel]\n",
    "const FM=10000.; #force modulus in N"
   ]
  },
  {
   "cell_type": "code",
   "execution_count": 7,
   "metadata": {},
   "outputs": [],
   "source": [
    "# ===============================================PRE-PROCESSING==================\r\n",
    "# DEFINING AND DISCRETIZING[MESHING] THE STRUCTURE\r\n",
    "# connectivity table\r\n",
    "# elt||node_i||node_j\r\n",
    "# 1|1|3\r\n",
    "# 2|2|3\r\n",
    "# grid()\r\n",
    "X1pos=0.;Y1pos=0.\r\n",
    "X2pos=0.;Y2pos=L\r\n",
    "X3pos=L;Y3pos=L\r\n",
    "#lengths\r\n",
    "L1=d2_truss_elementlength(X1pos,Y1pos,X3pos,Y3pos) #length of element 1\r\n",
    "L2=d2_truss_elementlength(X2pos,Y2pos,X3pos,Y3pos) #length of element 2\r\n",
    "#APPLYING GEOMETRIC&MATERIAL PROPERTIES\r\n",
    "A1=sqrt(2)*A; #cross-sectional area of element 1\r\n",
    "A2=A; #cross-sectional area of element 2\r\n",
    "E1=E; #material of element 1\r\n",
    "E2=E; #material of element 2"
   ]
  },
  {
   "cell_type": "markdown",
   "metadata": {},
   "source": [
    "# Calcul et Affichage des matrices de raideur élémentaires"
   ]
  },
  {
   "cell_type": "code",
   "execution_count": 8,
   "metadata": {},
   "outputs": [
    {
     "name": "stdout",
     "output_type": "stream",
     "text": [
      "K1=\n"
     ]
    },
    {
     "data": {
      "text/plain": "4×4 Array{Float64,2}:\n  1050.0   1050.0  -1050.0  -1050.0\n  1050.0   1050.0  -1050.0  -1050.0\n -1050.0  -1050.0   1050.0   1050.0\n -1050.0  -1050.0   1050.0   1050.0"
     },
     "execution_count": 8,
     "metadata": {},
     "output_type": "execute_result"
    }
   ],
   "source": [
    "#writing-defining the element stiffness matrices\r\n",
    "K1=d2_truss_elementstiffness(E1,A1,L1,45);\r\n",
    "println(\"K1=\\r\")\r\n",
    "K1"
   ]
  },
  {
   "cell_type": "code",
   "execution_count": 9,
   "metadata": {},
   "outputs": [
    {
     "name": "stdout",
     "output_type": "stream",
     "text": [
      "K2=\n"
     ]
    },
    {
     "data": {
      "text/plain": "4×4 Array{Float64,2}:\n  2100.0   0.0  -2100.0  -0.0\n     0.0   0.0     -0.0  -0.0\n -2100.0  -0.0   2100.0   0.0\n    -0.0  -0.0      0.0   0.0"
     },
     "execution_count": 9,
     "metadata": {},
     "output_type": "execute_result"
    }
   ],
   "source": [
    "K2=d2_truss_elementstiffness(E2,A2,L2,0);\r\n",
    "println(\"K2=\\r\")\r\n",
    "K2"
   ]
  },
  {
   "cell_type": "markdown",
   "metadata": {},
   "source": [
    "# Affichage des matrices de raideurs positionnées $[K_1]^p$ $[K_2]^p$ et et de la matrice d'assemblage $[K]$"
   ]
  },
  {
   "cell_type": "code",
   "execution_count": 10,
   "metadata": {},
   "outputs": [
    {
     "name": "stdout",
     "output_type": "stream",
     "text": [
      "K1P=\n"
     ]
    },
    {
     "data": {
      "text/plain": "6×6 Array{Float64,2}:\n  1050.0   1050.0  0.0  0.0  -1050.0  -1050.0\n  1050.0   1050.0  0.0  0.0  -1050.0  -1050.0\n     0.0      0.0  0.0  0.0      0.0      0.0\n     0.0      0.0  0.0  0.0      0.0      0.0\n -1050.0  -1050.0  0.0  0.0   1050.0   1050.0\n -1050.0  -1050.0  0.0  0.0   1050.0   1050.0"
     },
     "execution_count": 10,
     "metadata": {},
     "output_type": "execute_result"
    }
   ],
   "source": [
    "#ASSEMBLING THE GLOBAL STIFFNESS MATRIX\r\n",
    "#matrices initialization\r\n",
    "K=zeros(6,6);K1P=zeros(6,6);\r\n",
    "#positionning stiffness matrices\r\n",
    "K1P=d2_truss_assemble(K,K1,1,3)\r\n",
    "println(\"K1P=\\r\")\r\n",
    "K1P"
   ]
  },
  {
   "cell_type": "code",
   "execution_count": 11,
   "metadata": {},
   "outputs": [
    {
     "name": "stdout",
     "output_type": "stream",
     "text": [
      "K2P=\n"
     ]
    },
    {
     "data": {
      "text/plain": "6×6 Array{Float64,2}:\n 0.0  0.0      0.0  0.0      0.0  0.0\n 0.0  0.0      0.0  0.0      0.0  0.0\n 0.0  0.0   2100.0  0.0  -2100.0  0.0\n 0.0  0.0      0.0  0.0      0.0  0.0\n 0.0  0.0  -2100.0  0.0   2100.0  0.0\n 0.0  0.0      0.0  0.0      0.0  0.0"
     },
     "execution_count": 11,
     "metadata": {},
     "output_type": "execute_result"
    }
   ],
   "source": [
    "K=zeros(6,6);K2P=zeros(6,6);\r\n",
    "K2P=d2_truss_assemble(K,K2,2,3)\r\n",
    "println(\"K2P=\\r\")\r\n",
    "K2P"
   ]
  },
  {
   "cell_type": "code",
   "execution_count": 12,
   "metadata": {},
   "outputs": [
    {
     "name": "stdout",
     "output_type": "stream",
     "text": [
      "K=\n"
     ]
    },
    {
     "data": {
      "text/plain": "6×6 Array{Float64,2}:\n  1050.0   1050.0      0.0  0.0  -1050.0  -1050.0\n  1050.0   1050.0      0.0  0.0  -1050.0  -1050.0\n     0.0      0.0   2100.0  0.0  -2100.0      0.0\n     0.0      0.0      0.0  0.0      0.0      0.0\n -1050.0  -1050.0  -2100.0  0.0   3150.0   1050.0\n -1050.0  -1050.0      0.0  0.0   1050.0   1050.0"
     },
     "execution_count": 12,
     "metadata": {},
     "output_type": "execute_result"
    }
   ],
   "source": [
    "#assembling\r\n",
    "K=K1P+K2P\r\n",
    "println(\"K=\\r\")\r\n",
    "K"
   ]
  },
  {
   "cell_type": "markdown",
   "metadata": {},
   "source": [
    "# Affichage des vecteurs des déplacements et des chargements nodaux"
   ]
  },
  {
   "cell_type": "code",
   "execution_count": 13,
   "metadata": {},
   "outputs": [
    {
     "name": "stdout",
     "output_type": "stream",
     "text": [
      "U=\n"
     ]
    },
    {
     "data": {
      "text/plain": "6-element Array{Float64,1}:\n   0.0\n   0.0\n   0.0\n   0.0\n   4.761904761904763\n -14.28571428571429"
     },
     "execution_count": 13,
     "metadata": {},
     "output_type": "execute_result"
    }
   ],
   "source": [
    "#SOLVING DISPACEMENT EQUATIONS\r\n",
    "#extracting displacement submatrix via index vector\r\n",
    "K_s=K[5:6,5:6]\r\n",
    "#Setting-up the force subvector by applying Load & Boundary Conditions[LBC]]\r\n",
    "F_s=[0, -FM]\r\n",
    "#solving by gaussian elimination\r\n",
    "U_s=K_s\\F_s\r\n",
    "#SOLVING FORCE EQUATIONS\r\n",
    "#setting-up the global nodal displacement vector\r\n",
    "U=[0, 0, 0, 0, U_s[1], U_s[2]]\r\n",
    "println(\"U=\\r\")\r\n",
    "U"
   ]
  },
  {
   "cell_type": "code",
   "execution_count": 14,
   "metadata": {},
   "outputs": [
    {
     "name": "stdout",
     "output_type": "stream",
     "text": [
      "F=\n"
     ]
    },
    {
     "data": {
      "text/plain": "6-element Array{Float64,1}:\n  10000.000000000002\n  10000.0\n -10000.000000000002\n      0.0\n     -1.8189894035458565e-12\n -10000.0"
     },
     "execution_count": 14,
     "metadata": {},
     "output_type": "execute_result"
    }
   ],
   "source": [
    "#computing the global nodal force vector\r\n",
    "F=K*U\r\n",
    "println(\"F=\\r\")\r\n",
    "F"
   ]
  },
  {
   "cell_type": "markdown",
   "metadata": {},
   "source": [
    "# Calcul et Affichage des grandeurs dérivées déformations et contraintes élémentaires"
   ]
  },
  {
   "cell_type": "code",
   "execution_count": 15,
   "metadata": {},
   "outputs": [
    {
     "name": "stdout",
     "output_type": "stream",
     "text": [
      "ϵ1 = [-0.00047619047619047624]\n",
      "ϵ2 = [0.0004761904761904763]\n"
     ]
    }
   ],
   "source": [
    "#writing the element nodal displacement vectors\r\n",
    "U1=[U[1], U[2], U[5], U[6]]\r\n",
    "U2=[U[3], U[4], U[5], U[6]]\r\n",
    "#computing element strains\r\n",
    "ϵ1=d2_truss_elementstrain(L1,45,U1)\r\n",
    "@show ϵ1\r\n",
    "ϵ2=d2_truss_elementstrain(L2,0,U2)\r\n",
    "@show ϵ2;"
   ]
  },
  {
   "cell_type": "code",
   "execution_count": 16,
   "metadata": {},
   "outputs": [
    {
     "name": "stdout",
     "output_type": "stream",
     "text": [
      "f1 = [-14142.135623730956]\n",
      "f2 = [10000.000000000002]\n"
     ]
    }
   ],
   "source": [
    "#computing element forces\r\n",
    "f1=d2_truss_elementforce(E1,A1,L1,45,U1)\r\n",
    "@show f1\r\n",
    "f2=d2_truss_elementforce(E2,A2,L2,0,U2)\r\n",
    "@show f2;"
   ]
  },
  {
   "cell_type": "code",
   "execution_count": 17,
   "metadata": {},
   "outputs": [
    {
     "name": "stdout",
     "output_type": "stream",
     "text": [
      "σ1 = [-100.00000000000004]\n",
      "σ2 = [100.00000000000001]\n"
     ]
    }
   ],
   "source": [
    "#computing element stresses\r\n",
    "σ1=d2_truss_elementstress(E1,L1,45,U1)\r\n",
    "@show σ1\r\n",
    "σ2=d2_truss_elementstress(E2,L2,0,U2)\r\n",
    "@show σ2;"
   ]
  },
  {
   "cell_type": "markdown",
   "metadata": {},
   "source": [
    "# Plot"
   ]
  },
  {
   "cell_type": "code",
   "execution_count": 18,
   "metadata": {},
   "outputs": [
    {
     "data": {
      "image/png": "[encoded data removed]",
      "text/plain": "Figure(PyObject <Figure size 640x480 with 1 Axes>)"
     },
     "metadata": {},
     "output_type": "display_data"
    },
    {
     "data": {
      "text/plain": "1-element Array{PyCall.PyObject,1}:\n PyObject <matplotlib.lines.Line2D object at 0x0000000046956908>"
     },
     "execution_count": 18,
     "metadata": {},
     "output_type": "execute_result"
    }
   ],
   "source": [
    "using PyPlot\r\n",
    "Xini=[X1pos, X3pos]\r\n",
    "Yini=[Y1pos, Y3pos]\r\n",
    "plot(Xini,Yini,\"ks-\")\r\n",
    "Xini=[X2pos, X3pos]\r\n",
    "Yini=[Y2pos, Y3pos]\r\n",
    "plot(Xini,Yini,\"ks-\")\r\n",
    "fampl=100\r\n",
    "Xdef=[(X1pos+fampl*U[1]), (X3pos+fampl*U[5])]\r\n",
    "Ydef=[(Y1pos+fampl*U[1]), (Y3pos+fampl*U[6])]\r\n",
    "plot(Xdef,Ydef,\"bs-\")\r\n",
    "Xdef=[(X2pos+fampl*U[3]), (X3pos+fampl*U[5])]\r\n",
    "Ydef=[(Y2pos+fampl*U[4]), (Y3pos+fampl*U[6])]\r\n",
    "plot(Xdef,Ydef,\"bs-\")"
   ]
  }
 ],
 "metadata": {
  "@webio": {
   "lastCommId": "f5515949-f4a2-4d68-841c-e0b24e0c50ff",
   "lastKernelId": "6357598f-dc78-491e-982e-6b8deccd57d7"
  },
  "kernelspec": {
   "display_name": "Julia 1.5.0",
   "language": "julia",
   "name": "julia-1.5"
  },
  "language_info": {
   "file_extension": ".jl",
   "mimetype": "application/julia",
   "name": "julia",
   "version": "1.5.0"
  }
 },
 "nbformat": 4,
 "nbformat_minor": 4
}