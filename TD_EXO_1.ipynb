{
 "cells": [
  {
   "cell_type": "markdown",
   "metadata": {},
   "source": [
    "# Positionnement dans mon répertoire de travail (google drive)"
   ]
  },
  {
   "cell_type": "code",
   "execution_count": 1,
   "metadata": {},
   "outputs": [
    {
     "data": {
      "text/plain": [
       "\"D:\\\\Users\\\\Administrator\\\\OneDrive\\\\Documents\\\\Julia\\\\FEM\""
      ]
     },
     "execution_count": 1,
     "metadata": {},
     "output_type": "execute_result"
    }
   ],
   "source": [
    "pwd()"
   ]
  },
  {
   "cell_type": "markdown",
   "metadata": {},
   "source": [
    "# Se positionner dans son répertoire de téléchargement"
   ]
  },
  {
   "cell_type": "code",
   "execution_count": 2,
   "metadata": {},
   "outputs": [
    {
     "name": "stdout",
     "output_type": "stream",
     "text": [
      "G:\\My Drive\n"
     ]
    }
   ],
   "source": [
    ";cd \"G:\\\\My Drive\\\\\""
   ]
  },
  {
   "cell_type": "markdown",
   "metadata": {},
   "source": [
    "# Instantiation de mon projet (téléchargement des dépendances)"
   ]
  },
  {
   "cell_type": "code",
   "execution_count": 2,
   "metadata": {},
   "outputs": [
    {
     "name": "stderr",
     "output_type": "stream",
     "text": [
      "\u001b[32m\u001b[1m Activating\u001b[22m\u001b[39m environment at `G:\\My Drive\\_MOPJ\\Julia\\FEM\\Project.toml`\n"
     ]
    }
   ],
   "source": [
    "]instantiate"
   ]
  },
  {
   "cell_type": "markdown",
   "metadata": {},
   "source": [
    "# Listing des paquets disponibles dans l'environnement actuel "
   ]
  },
  {
   "cell_type": "code",
   "execution_count": 3,
   "metadata": {},
   "outputs": [
    {
     "name": "stdout",
     "output_type": "stream",
     "text": [
      "\u001b[32m\u001b[1mStatus\u001b[22m\u001b[39m `G:\\My Drive\\_MOPJ\\Julia\\FEM\\Project.toml`\n",
      " \u001b[90m [3625dbae] \u001b[39m\u001b[37mLibFEM v0.1.0 `https://github.com/amdeld/LibFEM.jl#master`\u001b[39m\n"
     ]
    }
   ],
   "source": [
    "]st"
   ]
  },
  {
   "cell_type": "markdown",
   "metadata": {},
   "source": [
    "# Si le résultat montre que le paquet LibFEM n'est pas présent, il faut alors  rajouter la librairie (paquet) pour faire du calcul de structures élastiques 0D/1D.\n",
    "Téléchargement de la bibliothèque LibFEM depuis mon compte github https://github.com/amdeld"
   ]
  },
  {
   "cell_type": "code",
   "execution_count": 4,
   "metadata": {},
   "outputs": [
    {
     "name": "stdout",
     "output_type": "stream",
     "text": [
      "\u001b[?25l"
     ]
    },
    {
     "name": "stderr",
     "output_type": "stream",
     "text": [
      "\u001b[32m\u001b[1m   Updating\u001b[22m\u001b[39m git-repo `https://github.com/amdeld/LibFEM.jl`\n"
     ]
    },
    {
     "name": "stdout",
     "output_type": "stream",
     "text": [
      "\u001b[2K\u001b[?25h"
     ]
    },
    {
     "name": "stderr",
     "output_type": "stream",
     "text": [
      "\u001b[32m\u001b[1m   Updating\u001b[22m\u001b[39m registry at `C:\\Users\\Admin\\.julia\\registries\\General`"
     ]
    },
    {
     "name": "stdout",
     "output_type": "stream",
     "text": [
      "\u001b[?25l"
     ]
    },
    {
     "name": "stderr",
     "output_type": "stream",
     "text": [
      "\n",
      "\u001b[32m\u001b[1m   Updating\u001b[22m\u001b[39m git-repo `https://github.com/JuliaRegistries/General.git`\n"
     ]
    },
    {
     "name": "stdout",
     "output_type": "stream",
     "text": [
      "\u001b[2K\u001b[36m\u001b[1mFetching:\u001b[22m\u001b[39m [========================================>]  100.0 %\u001b[?25h"
     ]
    },
    {
     "name": "stderr",
     "output_type": "stream",
     "text": [
      "\u001b[32m\u001b[1m  Resolving\u001b[22m\u001b[39m package versions...\n",
      "\u001b[32m\u001b[1mNo Changes\u001b[22m\u001b[39m to `G:\\My Drive\\_MOPJ\\Julia\\FEM\\Project.toml`\n",
      "\u001b[32m\u001b[1mNo Changes\u001b[22m\u001b[39m to `G:\\My Drive\\_MOPJ\\Julia\\FEM\\Manifest.toml`\n"
     ]
    }
   ],
   "source": [
    "using Pkg;Pkg.add(url=\"https://github.com/amdeld/LibFEM.jl\")\n",
    "#]add https://github.com/amdeld/LibFEM.jl"
   ]
  },
  {
   "cell_type": "markdown",
   "metadata": {},
   "source": [
    "# On charge ensuite la librairie LibFEM avec la commande suivante:"
   ]
  },
  {
   "cell_type": "code",
   "execution_count": 5,
   "metadata": {},
   "outputs": [],
   "source": [
    "using LibFEM # ,Plots"
   ]
  },
  {
   "cell_type": "markdown",
   "metadata": {},
   "source": [
    "# Quelques informations quant au cas à traiter"
   ]
  },
  {
   "cell_type": "raw",
   "metadata": {},
   "source": [
    "# Units system mm/tonne/s/K\n",
    "# ===============================================================================\n",
    "# 2D FRAME\n",
    "# ===============================================================================\n",
    "# (2)---(3)\n",
    "#      /\n",
    "#     /\n",
    "#    /\n",
    "#   /\n",
    "#  /\n",
    "# /\n",
    "#(1)\n",
    "# ===============================================================================\n",
    "# The element used here is a linear 2D straight truss with constant cross section\n",
    "# The degrees of freedom are the u & v displacements \n",
    "# ==============================================================================="
   ]
  },
  {
   "cell_type": "code",
   "execution_count": 6,
   "metadata": {},
   "outputs": [],
   "source": [
    "#PARAMETERS\n",
    "const L=10000. #length in mm\n",
    "const A=100. #cross-sectional area in mm^2\n",
    "const E=210000. #modulus of elasticity in MPa [steel]\n",
    "const FM=10000.; #force modulus in N"
   ]
  },
  {
   "cell_type": "code",
   "execution_count": 7,
   "metadata": {},
   "outputs": [],
   "source": [
    "# ===============================================PRE-PROCESSING==================\n",
    "# DEFINING AND DISCRETIZING[MESHING] THE STRUCTURE\n",
    "# connectivity table\n",
    "# elt||node_i||node_j\n",
    "# 1|1|3\n",
    "# 2|2|3\n",
    "# grid()\n",
    "X1pos=0.;Y1pos=0.\n",
    "X2pos=0.;Y2pos=L\n",
    "X3pos=L;Y3pos=L\n",
    "#lengths\n",
    "L1=D2_TrussElementLength(X1pos,Y1pos,X3pos,Y3pos) #length of element 1\n",
    "L2=D2_TrussElementLength(X2pos,Y2pos,X3pos,Y3pos) #length of element 2\n",
    "#APPLYING GEOMETRIC&MATERIAL PROPERTIES\n",
    "A1=sqrt(2)*A; #cross-sectional area of element 1\n",
    "A2=A; #cross-sectional area of element 2\n",
    "E1=E; #material of element 1\n",
    "E2=E; #material of element 2"
   ]
  },
  {
   "cell_type": "markdown",
   "metadata": {},
   "source": [
    "# Calcul et Affichage des matrices de raideur élémentaires"
   ]
  },
  {
   "cell_type": "code",
   "execution_count": 8,
   "metadata": {},
   "outputs": [
    {
     "name": "stdout",
     "output_type": "stream",
     "text": [
      "\n",
      "K1=\n"
     ]
    },
    {
     "data": {
      "text/plain": [
       "4×4 Array{Float64,2}:\n",
       "  1050.0   1050.0  -1050.0  -1050.0\n",
       "  1050.0   1050.0  -1050.0  -1050.0\n",
       " -1050.0  -1050.0   1050.0   1050.0\n",
       " -1050.0  -1050.0   1050.0   1050.0"
      ]
     },
     "execution_count": 8,
     "metadata": {},
     "output_type": "execute_result"
    }
   ],
   "source": [
    "#writing-defining the element stiffness matrices\n",
    "K1=D2_TrussElementStiffness(E1,A1,L1,45);\n",
    "println(\"\\nK1=\\r\")\n",
    "K1"
   ]
  },
  {
   "cell_type": "code",
   "execution_count": 9,
   "metadata": {},
   "outputs": [
    {
     "name": "stdout",
     "output_type": "stream",
     "text": [
      "\n",
      "K2=\n"
     ]
    },
    {
     "data": {
      "text/plain": [
       "4×4 Array{Float64,2}:\n",
       "  2100.0   0.0  -2100.0  -0.0\n",
       "     0.0   0.0     -0.0  -0.0\n",
       " -2100.0  -0.0   2100.0   0.0\n",
       "    -0.0  -0.0      0.0   0.0"
      ]
     },
     "execution_count": 9,
     "metadata": {},
     "output_type": "execute_result"
    }
   ],
   "source": [
    "K2=D2_TrussElementStiffness(E2,A2,L2,0);\n",
    "println(\"\\nK2=\\r\")\n",
    "K2"
   ]
  },
  {
   "cell_type": "markdown",
   "metadata": {},
   "source": [
    "# Affichage des matrices de raideurs positionnées [K1]^p [K2]p et et de la matrice d'assemblage [K]"
   ]
  },
  {
   "cell_type": "code",
   "execution_count": 10,
   "metadata": {},
   "outputs": [
    {
     "name": "stdout",
     "output_type": "stream",
     "text": [
      "\n",
      "K1P=\n"
     ]
    },
    {
     "data": {
      "text/plain": [
       "6×6 Array{Float64,2}:\n",
       "  1050.0   1050.0  0.0  0.0  -1050.0  -1050.0\n",
       "  1050.0   1050.0  0.0  0.0  -1050.0  -1050.0\n",
       "     0.0      0.0  0.0  0.0      0.0      0.0\n",
       "     0.0      0.0  0.0  0.0      0.0      0.0\n",
       " -1050.0  -1050.0  0.0  0.0   1050.0   1050.0\n",
       " -1050.0  -1050.0  0.0  0.0   1050.0   1050.0"
      ]
     },
     "execution_count": 10,
     "metadata": {},
     "output_type": "execute_result"
    }
   ],
   "source": [
    "#ASSEMBLING THE GLOBAL STIFFNESS MATRIX\n",
    "#matrices initialization\n",
    "K=zeros(6,6);K1P=zeros(6,6);\n",
    "#positionning stiffness matrices\n",
    "K1P=D2_TrussAssemble(K,K1,1,3)\n",
    "println(\"\\nK1P=\\r\")\n",
    "K1P"
   ]
  },
  {
   "cell_type": "code",
   "execution_count": 11,
   "metadata": {},
   "outputs": [
    {
     "name": "stdout",
     "output_type": "stream",
     "text": [
      "\n",
      "K2P=\n"
     ]
    },
    {
     "data": {
      "text/plain": [
       "6×6 Array{Float64,2}:\n",
       " 0.0  0.0      0.0  0.0      0.0  0.0\n",
       " 0.0  0.0      0.0  0.0      0.0  0.0\n",
       " 0.0  0.0   2100.0  0.0  -2100.0  0.0\n",
       " 0.0  0.0      0.0  0.0      0.0  0.0\n",
       " 0.0  0.0  -2100.0  0.0   2100.0  0.0\n",
       " 0.0  0.0      0.0  0.0      0.0  0.0"
      ]
     },
     "execution_count": 11,
     "metadata": {},
     "output_type": "execute_result"
    }
   ],
   "source": [
    "K=zeros(6,6);K2P=zeros(6,6);\n",
    "K2P=D2_TrussAssemble(K,K2,2,3)\n",
    "println(\"\\nK2P=\\r\")\n",
    "K2P"
   ]
  },
  {
   "cell_type": "code",
   "execution_count": 12,
   "metadata": {},
   "outputs": [
    {
     "name": "stdout",
     "output_type": "stream",
     "text": [
      "\n",
      "K=\n"
     ]
    },
    {
     "data": {
      "text/plain": [
       "6×6 Array{Float64,2}:\n",
       "  1050.0   1050.0      0.0  0.0  -1050.0  -1050.0\n",
       "  1050.0   1050.0      0.0  0.0  -1050.0  -1050.0\n",
       "     0.0      0.0   2100.0  0.0  -2100.0      0.0\n",
       "     0.0      0.0      0.0  0.0      0.0      0.0\n",
       " -1050.0  -1050.0  -2100.0  0.0   3150.0   1050.0\n",
       " -1050.0  -1050.0      0.0  0.0   1050.0   1050.0"
      ]
     },
     "execution_count": 12,
     "metadata": {},
     "output_type": "execute_result"
    }
   ],
   "source": [
    "#assembling\n",
    "K=K1P+K2P\n",
    "println(\"\\nK=\\r\")\n",
    "K"
   ]
  },
  {
   "cell_type": "markdown",
   "metadata": {},
   "source": [
    "# Affichage des vecteurs des déplacements et des chargements nodaux"
   ]
  },
  {
   "cell_type": "code",
   "execution_count": 13,
   "metadata": {},
   "outputs": [
    {
     "name": "stdout",
     "output_type": "stream",
     "text": [
      "\n",
      "U=\n"
     ]
    },
    {
     "data": {
      "text/plain": [
       "6-element Array{Float64,1}:\n",
       "  0.0\n",
       "  0.0\n",
       "  0.0\n",
       "  0.0\n",
       " -4.761904761904763\n",
       " 14.28571428571429"
      ]
     },
     "execution_count": 13,
     "metadata": {},
     "output_type": "execute_result"
    }
   ],
   "source": [
    "#SOLVING DISPACEMENT EQUATIONS\n",
    "#extracting displacement submatrix via index vector\n",
    "K_s=K[5:6,5:6]\n",
    "#Setting-up the force subvector by applying Load & Boundary Conditions[LBC]]\n",
    "F_s=[0 FM]'\n",
    "#solving by gaussian elimination\n",
    "U_s=K_s\\F_s\n",
    "#SOLVING FORCE EQUATIONS\n",
    "#setting-up the global nodal displacement vector\n",
    "U=[0 0 0 0 U_s[1:2]']'\n",
    "println(\"\\nU=\\r\")\n",
    "U"
   ]
  },
  {
   "cell_type": "code",
   "execution_count": 14,
   "metadata": {},
   "outputs": [
    {
     "name": "stdout",
     "output_type": "stream",
     "text": [
      "\n",
      "F=\n"
     ]
    },
    {
     "data": {
      "text/plain": [
       "6-element Array{Float64,1}:\n",
       " -10000.000000000002\n",
       " -10000.0\n",
       "  10000.000000000002\n",
       "      0.0\n",
       "      1.8189894035458565e-12\n",
       "  10000.0"
      ]
     },
     "execution_count": 14,
     "metadata": {},
     "output_type": "execute_result"
    }
   ],
   "source": [
    "#computing the global nodal force vector\n",
    "F=K*U\n",
    "println(\"\\nF=\\r\")\n",
    "F"
   ]
  },
  {
   "cell_type": "markdown",
   "metadata": {},
   "source": [
    "# Calcul et Affichage des grandeurs dérivées déformations et contraintes élémentaires"
   ]
  },
  {
   "cell_type": "code",
   "execution_count": 15,
   "metadata": {},
   "outputs": [
    {
     "name": "stdout",
     "output_type": "stream",
     "text": [
      "\n",
      "ϵ1=\n"
     ]
    },
    {
     "data": {
      "text/plain": [
       "1×1 Array{Float64,2}:\n",
       " 0.00047619047619047624"
      ]
     },
     "execution_count": 15,
     "metadata": {},
     "output_type": "execute_result"
    }
   ],
   "source": [
    "#COMPUTING STRESSES\n",
    "#writing the element nodal displacement vectors\n",
    "U1=[U[1] U[2] U[5] U[6]]'\n",
    "U2=[U[3] U[4] U[5] U[6]]'\n",
    "#computing element strains\n",
    "ϵ1=D2_TrussElementStrain(L1,45,U1)\n",
    "println(\"\\nϵ1=\\r\")\n",
    "ϵ1"
   ]
  },
  {
   "cell_type": "code",
   "execution_count": 16,
   "metadata": {},
   "outputs": [
    {
     "name": "stdout",
     "output_type": "stream",
     "text": [
      "\n",
      "ϵ2=\n"
     ]
    },
    {
     "data": {
      "text/plain": [
       "1×1 Array{Float64,2}:\n",
       " -0.0004761904761904763"
      ]
     },
     "execution_count": 16,
     "metadata": {},
     "output_type": "execute_result"
    }
   ],
   "source": [
    "ϵ2=D2_TrussElementStrain(L2,0,U2)\n",
    "println(\"\\nϵ2=\\r\")\n",
    "ϵ2"
   ]
  },
  {
   "cell_type": "code",
   "execution_count": 17,
   "metadata": {},
   "outputs": [
    {
     "name": "stdout",
     "output_type": "stream",
     "text": [
      "\n",
      "σ1=\n"
     ]
    },
    {
     "data": {
      "text/plain": [
       "1×1 Array{Float64,2}:\n",
       " 100.00000000000004"
      ]
     },
     "execution_count": 17,
     "metadata": {},
     "output_type": "execute_result"
    }
   ],
   "source": [
    "#computing element forces\n",
    "f1=D2_TrussElementForce(E1,A1,L1,45,U1)\n",
    "f2=D2_TrussElementForce(E2,A2,L2,0,U2)\n",
    "#computing element stresses\n",
    "σ1=D2_TrussElementStress(E1,L1,45,U1)\n",
    "println(\"\\nσ1=\\r\")\n",
    "σ1"
   ]
  },
  {
   "cell_type": "code",
   "execution_count": 18,
   "metadata": {},
   "outputs": [
    {
     "name": "stdout",
     "output_type": "stream",
     "text": [
      "\n",
      "σ2=\n"
     ]
    },
    {
     "data": {
      "text/plain": [
       "1×1 Array{Float64,2}:\n",
       " -100.00000000000001"
      ]
     },
     "execution_count": 18,
     "metadata": {},
     "output_type": "execute_result"
    }
   ],
   "source": [
    "σ2=D2_TrussElementStress(E2,L2,0,U2)\n",
    "println(\"\\nσ2=\\r\")\n",
    "σ2"
   ]
  },
  {
   "cell_type": "code",
   "execution_count": null,
   "metadata": {},
   "outputs": [],
   "source": []
  }
 ],
 "metadata": {
  "kernelspec": {
   "display_name": "Julia 1.5.0",
   "language": "julia",
   "name": "julia-1.5"
  },
  "language_info": {
   "file_extension": ".jl",
   "mimetype": "application/julia",
   "name": "julia",
   "version": "1.5.0"
  }
 },
 "nbformat": 4,
 "nbformat_minor": 4
}
