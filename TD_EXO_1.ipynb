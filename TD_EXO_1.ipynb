{
 "cells": [
  {
   "cell_type": "markdown",
   "metadata": {},
   "source": [
    "# Où suis-je ?"
   ]
  },
  {
   "cell_type": "code",
   "execution_count": 1,
   "metadata": {},
   "outputs": [
    {
     "data": {
      "text/plain": [
       "\"D:\\\\Users\\\\Administrator\\\\OneDrive\\\\Documents\\\\Julia\\\\FEM\""
      ]
     },
     "execution_count": 1,
     "metadata": {},
     "output_type": "execute_result"
    }
   ],
   "source": [
    "pwd()"
   ]
  },
  {
   "cell_type": "markdown",
   "metadata": {},
   "source": [
    "# Se positionner dans son répertoire de travail (dossier de téléchargement et/ou google drive)"
   ]
  },
  {
   "cell_type": "code",
   "execution_count": 2,
   "metadata": {},
   "outputs": [
    {
     "name": "stdout",
     "output_type": "stream",
     "text": [
      "G:\\My Drive\n"
     ]
    }
   ],
   "source": [
    ";cd \"G:\\\\My Drive\\\\\""
   ]
  },
  {
   "cell_type": "markdown",
   "metadata": {},
   "source": [
    "# Listing des paquets disponibles dans l'environnement actuel "
   ]
  },
  {
   "cell_type": "code",
   "execution_count": 1,
   "metadata": {},
   "outputs": [
    {
     "name": "stdout",
     "output_type": "stream",
     "text": [
      "\u001b[32m\u001b[1mStatus\u001b[22m\u001b[39m `D:\\Users\\Administrator\\OneDrive\\Documents\\Julia\\FEM\\Project.toml`\n",
      " \u001b[90m [3625dbae] \u001b[39m\u001b[37mLibFEM v0.1.0 `https://github.com/amdeld/LibFEM.jl#master`\u001b[39m\n"
     ]
    }
   ],
   "source": [
    "]status"
   ]
  },
  {
   "cell_type": "markdown",
   "metadata": {},
   "source": [
    "# Instantiation de mon projet (téléchargement des dépendances LibFEM et Plots)"
   ]
  },
  {
   "cell_type": "code",
   "execution_count": 4,
   "metadata": {},
   "outputs": [],
   "source": [
    "]instantiate"
   ]
  },
  {
   "cell_type": "markdown",
   "metadata": {},
   "source": [
    "# Si le résultat montre que le paquet LibFEM n'est pas présent, il faut alors  rajouter la librairie (paquet) pour faire du calcul de structures élastiques 0D/1D.\n",
    "Téléchargement de la bibliothèque LibFEM depuis mon compte github https://github.com/amdeld"
   ]
  },
  {
   "cell_type": "code",
   "execution_count": null,
   "metadata": {},
   "outputs": [],
   "source": [
    "using Pkg;Pkg.add(url=\"https://github.com/amdeld/LibFEM.jl\")\n",
    "#]add https://github.com/amdeld/LibFEM.jl"
   ]
  },
  {
   "cell_type": "markdown",
   "metadata": {},
   "source": [
    "# On charge ensuite la librairie LibFEM avec la commande suivante:"
   ]
  },
  {
   "cell_type": "code",
   "execution_count": null,
   "metadata": {},
   "outputs": [],
   "source": [
    "using LibFEM # ,Plots"
   ]
  },
  {
   "cell_type": "markdown",
   "metadata": {},
   "source": [
    "# Quelques informations quant au cas à traiter"
   ]
  },
  {
   "cell_type": "raw",
   "metadata": {},
   "source": [
    "# Units system mm/tonne/s/K\n",
    "# ===============================================================================\n",
    "# 2D FRAME\n",
    "# ===============================================================================\n",
    "# (2)---(3)\n",
    "#      /\n",
    "#     /\n",
    "#    /\n",
    "#   /\n",
    "#  /\n",
    "# /\n",
    "#(1)\n",
    "# ===============================================================================\n",
    "# The element used here is a linear 2D straight truss with constant cross section\n",
    "# The degrees of freedom are the u & v displacements \n",
    "# ==============================================================================="
   ]
  },
  {
   "cell_type": "code",
   "execution_count": null,
   "metadata": {},
   "outputs": [],
   "source": [
    "#PARAMETERS\n",
    "const L=10000. #length in mm\n",
    "const A=100. #cross-sectional area in mm^2\n",
    "const E=210000. #modulus of elasticity in MPa [steel]\n",
    "const FM=10000.; #force modulus in N"
   ]
  },
  {
   "cell_type": "code",
   "execution_count": null,
   "metadata": {},
   "outputs": [],
   "source": [
    "# ===============================================PRE-PROCESSING==================\n",
    "# DEFINING AND DISCRETIZING[MESHING] THE STRUCTURE\n",
    "# connectivity table\n",
    "# elt||node_i||node_j\n",
    "# 1|1|3\n",
    "# 2|2|3\n",
    "# grid()\n",
    "X1pos=0.;Y1pos=0.\n",
    "X2pos=0.;Y2pos=L\n",
    "X3pos=L;Y3pos=L\n",
    "#lengths\n",
    "L1=D2_TrussElementLength(X1pos,Y1pos,X3pos,Y3pos) #length of element 1\n",
    "L2=D2_TrussElementLength(X2pos,Y2pos,X3pos,Y3pos) #length of element 2\n",
    "#APPLYING GEOMETRIC&MATERIAL PROPERTIES\n",
    "A1=sqrt(2)*A; #cross-sectional area of element 1\n",
    "A2=A; #cross-sectional area of element 2\n",
    "E1=E; #material of element 1\n",
    "E2=E; #material of element 2"
   ]
  },
  {
   "cell_type": "markdown",
   "metadata": {},
   "source": [
    "# Calcul et Affichage des matrices de raideur élémentaires"
   ]
  },
  {
   "cell_type": "code",
   "execution_count": null,
   "metadata": {},
   "outputs": [],
   "source": [
    "#writing-defining the element stiffness matrices\n",
    "K1=D2_TrussElementStiffness(E1,A1,L1,45);\n",
    "println(\"\\nK1=\\r\")\n",
    "K1"
   ]
  },
  {
   "cell_type": "code",
   "execution_count": null,
   "metadata": {},
   "outputs": [],
   "source": [
    "K2=D2_TrussElementStiffness(E2,A2,L2,0);\n",
    "println(\"\\nK2=\\r\")\n",
    "K2"
   ]
  },
  {
   "cell_type": "markdown",
   "metadata": {},
   "source": [
    "# Affichage des matrices de raideurs positionnées [K1]^p [K2]p et et de la matrice d'assemblage [K]"
   ]
  },
  {
   "cell_type": "code",
   "execution_count": null,
   "metadata": {},
   "outputs": [],
   "source": [
    "#ASSEMBLING THE GLOBAL STIFFNESS MATRIX\n",
    "#matrices initialization\n",
    "K=zeros(6,6);K1P=zeros(6,6);\n",
    "#positionning stiffness matrices\n",
    "K1P=D2_TrussAssemble(K,K1,1,3)\n",
    "println(\"\\nK1P=\\r\")\n",
    "K1P"
   ]
  },
  {
   "cell_type": "code",
   "execution_count": null,
   "metadata": {},
   "outputs": [],
   "source": [
    "K=zeros(6,6);K2P=zeros(6,6);\n",
    "K2P=D2_TrussAssemble(K,K2,2,3)\n",
    "println(\"\\nK2P=\\r\")\n",
    "K2P"
   ]
  },
  {
   "cell_type": "code",
   "execution_count": null,
   "metadata": {},
   "outputs": [],
   "source": [
    "#assembling\n",
    "K=K1P+K2P\n",
    "println(\"\\nK=\\r\")\n",
    "K"
   ]
  },
  {
   "cell_type": "markdown",
   "metadata": {},
   "source": [
    "# Affichage des vecteurs des déplacements et des chargements nodaux"
   ]
  },
  {
   "cell_type": "code",
   "execution_count": null,
   "metadata": {},
   "outputs": [],
   "source": [
    "#SOLVING DISPACEMENT EQUATIONS\n",
    "#extracting displacement submatrix via index vector\n",
    "K_s=K[5:6,5:6]\n",
    "#Setting-up the force subvector by applying Load & Boundary Conditions[LBC]]\n",
    "F_s=[0 FM]'\n",
    "#solving by gaussian elimination\n",
    "U_s=K_s\\F_s\n",
    "#SOLVING FORCE EQUATIONS\n",
    "#setting-up the global nodal displacement vector\n",
    "U=[0 0 0 0 U_s[1:2]']'\n",
    "println(\"\\nU=\\r\")\n",
    "U"
   ]
  },
  {
   "cell_type": "code",
   "execution_count": null,
   "metadata": {},
   "outputs": [],
   "source": [
    "#computing the global nodal force vector\n",
    "F=K*U\n",
    "println(\"\\nF=\\r\")\n",
    "F"
   ]
  },
  {
   "cell_type": "markdown",
   "metadata": {},
   "source": [
    "# Calcul et Affichage des grandeurs dérivées déformations et contraintes élémentaires"
   ]
  },
  {
   "cell_type": "code",
   "execution_count": null,
   "metadata": {},
   "outputs": [],
   "source": [
    "#COMPUTING STRESSES\n",
    "#writing the element nodal displacement vectors\n",
    "U1=[U[1] U[2] U[5] U[6]]'\n",
    "U2=[U[3] U[4] U[5] U[6]]'\n",
    "#computing element strains\n",
    "ϵ1=D2_TrussElementStrain(L1,45,U1)\n",
    "println(\"\\nϵ1=\\r\")\n",
    "ϵ1"
   ]
  },
  {
   "cell_type": "code",
   "execution_count": null,
   "metadata": {},
   "outputs": [],
   "source": [
    "ϵ2=D2_TrussElementStrain(L2,0,U2)\n",
    "println(\"\\nϵ2=\\r\")\n",
    "ϵ2"
   ]
  },
  {
   "cell_type": "code",
   "execution_count": null,
   "metadata": {},
   "outputs": [],
   "source": [
    "#computing element forces\n",
    "f1=D2_TrussElementForce(E1,A1,L1,45,U1)\n",
    "f2=D2_TrussElementForce(E2,A2,L2,0,U2)\n",
    "#computing element stresses\n",
    "σ1=D2_TrussElementStress(E1,L1,45,U1)\n",
    "println(\"\\nσ1=\\r\")\n",
    "σ1"
   ]
  },
  {
   "cell_type": "code",
   "execution_count": null,
   "metadata": {},
   "outputs": [],
   "source": [
    "σ2=D2_TrussElementStress(E2,L2,0,U2)\n",
    "println(\"\\nσ2=\\r\")\n",
    "σ2"
   ]
  },
  {
   "cell_type": "code",
   "execution_count": null,
   "metadata": {},
   "outputs": [],
   "source": []
  }
 ],
 "metadata": {
  "kernelspec": {
   "display_name": "Julia 1.5.0",
   "language": "julia",
   "name": "julia-1.5"
  },
  "language_info": {
   "file_extension": ".jl",
   "mimetype": "application/julia",
   "name": "julia",
   "version": "1.5.0"
  }
 },
 "nbformat": 4,
 "nbformat_minor": 4
}
