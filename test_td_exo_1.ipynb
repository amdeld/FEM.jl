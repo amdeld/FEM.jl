{
 "cells": [
  {
   "cell_type": "markdown",
   "metadata": {},
   "source": [
    "# Exercice de TD n°1"
   ]
  },
  {
   "cell_type": "markdown",
   "metadata": {},
   "source": [
    "## 1/ Donner les matrices de rigidité élémentaires en repère local"
   ]
  },
  {
   "cell_type": "markdown",
   "metadata": {},
   "source": [
    "Rappel : matrice de rigidité élémentaire d'un élément de barre en repère local\n",
    "\n",
    "$\\left[k_e\\right]=\\frac{ES}{L}\\left[\\begin{array}{cccc}\n",
    "1 & 0 & -1 & 0\\\\\n",
    "0 & 0 & 0 & 0\\\\\n",
    "-1 & 0 & 1 & 0\\\\\n",
    "0 & 0 & 0 & 0\n",
    "\\end{array}\\right]$"
   ]
  },
  {
   "cell_type": "markdown",
   "metadata": {},
   "source": [
    "Elément 1: Matrice de rigidité élémentaire $[k_1]$\n",
    "\n",
    "$[k_1]=\\frac{E_1S_1}{L_1}\\left[\\begin{array}{cccc}\n",
    "1 & 0 & -1 & 0\\\\\n",
    "0 & 0 & 0 & 0\\\\\n",
    "-1 & 0 & 1 & 0\\\\\n",
    "0 & 0 & 0 & 0\n",
    "\\end{array}\\right]=\\frac{ES\\sqrt(2)}{L\\sqrt(2)}\\left[\\begin{array}{cccc}\n",
    "1 & 0 & -1 & 0\\\\\n",
    "0 & 0 & 0 & 0\\\\\n",
    "-1 & 0 & 1 & 0\\\\\n",
    "0 & 0 & 0 & 0\n",
    "\\end{array}\\right]=\\frac{ES}{L}\\left[\\begin{array}{cccc}\n",
    "1 & 0 & -1 & 0\\\\\n",
    "0 & 0 & 0 & 0\\\\\n",
    "-1 & 0 & 1 & 0\\\\\n",
    "0 & 0 & 0 & 0\n",
    "\\end{array}\\right]$\n",
    "\n",
    "Elément 2: Matrice de rigidité élémentaire $[k_2]$  \n",
    "\n",
    "$[k_2]=\\frac{E_2S_2}{L_2}\\left[\\begin{array}{cccc}\n",
    "1 & 0 & -1 & 0\\\\\n",
    "0 & 0 & 0 & 0\\\\\n",
    "-1 & 0 & 1 & 0\\\\\n",
    "0 & 0 & 0 & 0\n",
    "\\end{array}\\right]=\\frac{ES}{L}\\left[\\begin{array}{cccc}\n",
    "1 & 0 & -1 & 0\\\\\n",
    "0 & 0 & 0 & 0\\\\\n",
    "-1 & 0 & 1 & 0\\\\\n",
    "0 & 0 & 0 & 0\n",
    "\\end{array}\\right]$"
   ]
  },
  {
   "cell_type": "markdown",
   "metadata": {},
   "source": [
    "## Application numérique"
   ]
  },
  {
   "cell_type": "code",
   "execution_count": null,
   "metadata": {},
   "outputs": [],
   "source": [
    "#Système d'unités : T/mm/s/K\n",
    "#Paramètres\n",
    "const L=10000. # longueur en mm\n",
    "const S=100. # aire de la section en mm^2\n",
    "const E=210000. # module d'élasticité en MPa [acier]\n",
    "const FM=10000.; # module de la force en N"
   ]
  },
  {
   "cell_type": "code",
   "execution_count": null,
   "metadata": {},
   "outputs": [],
   "source": [
    "k1=E*sqrt(2)*S/(sqrt(2)*L)*[1 0 -1 0;0 0 0 0;-1 0 1 0;0 0 0 0]"
   ]
  },
  {
   "cell_type": "code",
   "execution_count": null,
   "metadata": {},
   "outputs": [],
   "source": [
    "k2=E*S/L*[1 0 -1 0;0 0 0 0;-1 0 1 0;0 0 0 0]"
   ]
  },
  {
   "cell_type": "markdown",
   "metadata": {},
   "source": [
    "## 2/ Calculer les matrices de rigidité élémentaires en repère global"
   ]
  },
  {
   "cell_type": "markdown",
   "metadata": {},
   "source": [
    "Elément 1: Matrice de raideur élémentaire $[K_1]$  \n",
    "\n",
    "$[K_1]=\\frac{ES}{L}\\left[\n",
    "\\begin{array}{cccc}\n",
    "cos(θ)^2 & sin(θ)*cos(θ) & cos(θ)^2 & sin(θ)*cos(θ) \\\\\n",
    "sin(θ)*cos(θ) & sin(θ)^2 & sin(θ)*cos(θ) & sin(θ)^2 \\\\\n",
    "cos(θ)^2 & sin(θ)*cos(θ) & cos(θ)^2 & sin(θ)*cos(θ) \\\\\n",
    "sin(θ)*cos(θ) & sin(θ)^2 & sin(θ)*cos(θ) & sin(θ)^2 \\\\\n",
    "\\end{array}\n",
    "\\right]$\n",
    "\n",
    "Elément 2: Matrice de raideur élémentaire $[K_2]$  \n",
    "\n",
    "$[K_2]=\\frac{ES}{L}\\left[\\begin{array}{cccc}\n",
    "1 & 0 & -1 & 0\\\\\n",
    "0 & 0 & 0 & 0\\\\\n",
    "-1 & 0 & 1 & 0\\\\\n",
    "0 & 0 & 0 & 0\n",
    "\\end{array}\\right]$"
   ]
  },
  {
   "cell_type": "code",
   "execution_count": null,
   "metadata": {},
   "outputs": [],
   "source": [
    "θ=π/4\n",
    "K1=E*S/L*[\n",
    "cos(θ)^2 sin(θ)*cos(θ) cos(θ)^2 sin(θ)*cos(θ)\n",
    "sin(θ)*cos(θ) sin(θ)^2 sin(θ)*cos(θ) sin(θ)^2\n",
    "cos(θ)^2 sin(θ)*cos(θ) cos(θ)^2 sin(θ)*cos(θ)\n",
    "sin(θ)*cos(θ) sin(θ)^2 sin(θ)*cos(θ) sin(θ)^2]"
   ]
  },
  {
   "cell_type": "code",
   "execution_count": null,
   "metadata": {},
   "outputs": [],
   "source": [
    "θ=0.\n",
    "K2=E*S/L*[\n",
    "cos(θ)^2 sin(θ)*cos(θ) cos(θ)^2 sin(θ)*cos(θ)\n",
    "sin(θ)*cos(θ) sin(θ)^2 sin(θ)*cos(θ) sin(θ)^2\n",
    "cos(θ)^2 sin(θ)*cos(θ) cos(θ)^2 sin(θ)*cos(θ)\n",
    "sin(θ)*cos(θ) sin(θ)^2 sin(θ)*cos(θ) sin(θ)^2]"
   ]
  },
  {
   "cell_type": "markdown",
   "metadata": {},
   "source": [
    "## 3/ Déterminer les matrices booléennes d’assemblage. En déduire la matrice globale de rigidité de la structure dans le repère global."
   ]
  },
  {
   "cell_type": "markdown",
   "metadata": {},
   "source": [
    "Rappel:  \n",
    "$\\left\\{U_e\\right\\}=[A_e]\\left\\{ U\\right\\}$  \n",
    "$[K_e]^{p}=[A_e]^{t}[K_e][A_e]$"
   ]
  },
  {
   "cell_type": "markdown",
   "metadata": {},
   "source": [
    "Matrices booléennes d'assemblage\n",
    "\n",
    "Elément 1:  \n",
    "\n",
    "$\\left\\{ U_{1}\\right\\} =\\left[A_{1}\\right]\\left\\{ U\\right\\} $\n",
    "\n",
    "$\\left\\{ \\begin{array}{c}\n",
    "^{1}U_{1}\\\\\n",
    "^{1}U_{2}\\\\\n",
    "^{2}U_{1}\\\\\n",
    "^{2}U_{2}\n",
    "\\end{array}\\right\\} =\\left[\\begin{array}{cccccc}\n",
    "1 & 0 & 0 & 0 & 0 & 0\\\\\n",
    "0 & 1 & 0 & 0 & 0 & 0\\\\\n",
    "0 & 0 & 0 & 0 & 1 & 0\\\\\n",
    "0 & 0 & 0 & 0 & 0 & 1\n",
    "\\end{array}\\right]\\left\\{ \\begin{array}{c}\n",
    "^{1}U_{1}\\\\\n",
    "^{1}U_{2}\\\\\n",
    "^{2}U_{1}\\\\\n",
    "^{2}U_{2}\\\\\n",
    "^{3}U_{1}\\\\\n",
    "^{3}U_{2}\n",
    "\\end{array}\\right\\} $\n",
    "\n",
    "\n",
    "\n",
    "$[A_{1}]=\\left[\\begin{array}{cccccc}\n",
    "1 & 0 & 0 & 0 & 0 & 0\\\\\n",
    "0 & 1 & 0 & 0 & 0 & 0\\\\\n",
    "0 & 0 & 0 & 0 & 1 & 0\\\\\n",
    "0 & 0 & 0 & 0 & 0 & 1\n",
    "\\end{array}\\right]$\n",
    "\n",
    "Elément 2:  \n",
    "\n",
    "$\\left\\{ U_{2}\\right\\} =\\left[A_{2}\\right]\\left\\{ U\\right\\} $\n",
    "\n",
    "$\\left\\{ \\begin{array}{c}\n",
    "^{2}U_{1}\\\\\n",
    "^{2}U_{2}\\\\\n",
    "^{3}U_{1}\\\\\n",
    "^{3}U_{2}\n",
    "\\end{array}\\right\\} =\\left[\\begin{array}{cccccc}\n",
    "0 & 0 & 1 & 0 & 0 & 0\\\\\n",
    "0 & 0 & 0 & 1 & 0 & 0\\\\\n",
    "0 & 0 & 0 & 0 & 1 & 0\\\\\n",
    "0 & 0 & 0 & 0 & 0 & 1\n",
    "\\end{array}\\right]\\left\\{ \\begin{array}{c}\n",
    "^{1}U_{1}\\\\\n",
    "^{1}U_{2}\\\\\n",
    "^{2}U_{1}\\\\\n",
    "^{2}U_{2}\\\\\n",
    "^{3}U_{1}\\\\\n",
    "^{3}U_{2}\n",
    "\\end{array}\\right\\} $\n",
    "\n",
    "\n",
    "\n",
    "$[A_{2}]=\\left[\\begin{array}{cccccc}\n",
    "0 & 0 & 1 & 0 & 0 & 0\\\\\n",
    "0 & 0 & 0 & 1 & 0 & 0\\\\\n",
    "0 & 0 & 0 & 0 & 1 & 0\\\\\n",
    "0 & 0 & 0 & 0 & 0 & 1\n",
    "\\end{array}\\right]$"
   ]
  },
  {
   "cell_type": "markdown",
   "metadata": {},
   "source": [
    "Matrices positionnées\n",
    "\n",
    "Elément 1:  \n",
    "\n",
    "$\\left[K_{1}\\right]^{P}=\\frac{ES}{2L}\\left[\\begin{array}{cccccc}\n",
    "1 & 1 & 0 & 0 & -1 & -1\\\\\n",
    "1 & 1 & 0 & 0 & -1 & -1\\\\\n",
    "0 & 0 & 0 & 0 & 0 & 0\\\\\n",
    "0 & 0 & 0 & 0 & 0 & 0\\\\\n",
    "-1 & -1 & 0 & 0 & 1 & 1\\\\\n",
    "-1 & -1 & 0 & 0 & 1 & 1\n",
    "\\end{array}\\right]$\n",
    "\n",
    "Elément 2:\n",
    "\n",
    "\n",
    "$\\left[K_{2}\\right]^{P}=\\frac{ES}{L}\\left[\\begin{array}{cccccc}\n",
    "0 & 0 & 0 & 0 & 0 & 0\\\\\n",
    "0 & 0 & 0 & 0 & 0 & 0\\\\\n",
    "0 & 0 & 1 & 0 & -1 & 0\\\\\n",
    "0 & 0 & 0 & 0 & 0 & 0\\\\\n",
    "0 & 0 & -1 & 0 & 1 & 0\\\\\n",
    "0 & 0 & 0 & 0 & 0 & 0\n",
    "\\end{array}\\right]$"
   ]
  },
  {
   "cell_type": "code",
   "execution_count": null,
   "metadata": {},
   "outputs": [],
   "source": [
    "A1=[1 0 0 0 0 0;0 1 0 0 0 0 ;0 0 0 0 1 0;0 0 0  0 0 1]"
   ]
  },
  {
   "cell_type": "code",
   "execution_count": null,
   "metadata": {},
   "outputs": [],
   "source": [
    "A2=[0 0 1 0 0 0;0 0 0 1 0 0 ;0 0 0 0 1 0;0 0 0  0 0 1]"
   ]
  },
  {
   "cell_type": "code",
   "execution_count": null,
   "metadata": {},
   "outputs": [],
   "source": [
    "K1P=A1'*K1*A1"
   ]
  },
  {
   "cell_type": "code",
   "execution_count": null,
   "metadata": {},
   "outputs": [],
   "source": []
  }
 ],
 "metadata": {
  "kernelspec": {
   "display_name": "Julia 1.5.3",
   "language": "julia",
   "name": "julia-1.5"
  },
  "language_info": {
   "file_extension": ".jl",
   "mimetype": "application/julia",
   "name": "julia",
   "version": "1.5.0"
  }
 },
 "nbformat": 4,
 "nbformat_minor": 4
}
