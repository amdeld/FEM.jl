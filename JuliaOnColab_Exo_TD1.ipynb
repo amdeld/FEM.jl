{
  "cells": [
    {
      "cell_type": "markdown",
      "metadata": {
        "colab_type": "text",
        "id": "view-in-github"
      },
      "source": [
        "<a href=\"https://colab.research.google.com/github/amdeld/FEM.jl/blob/master/JuliaOnColab_Exo_TD1.ipynb\" target=\"_parent\"><img src=\"https://colab.research.google.com/assets/colab-badge.svg\" alt=\"Open In Colab\"/></a>"
      ]
    },
    {
      "cell_type": "markdown",
      "metadata": {
        "id": "tQ1r1bbb0yBv"
      },
      "source": [
        "#Based on Aurélien Géron Template\n",
        "# <img src=\"https://github.com/JuliaLang/julia-logo-graphics/raw/master/images/julia-logo-color.png\" height=\"100\" /> _Colab Notebook EXO_TD_1_\n",
        "\n",
        "## Instructions\n",
        "1. Work on a copy of this notebook: _File_ > _Save a copy in Drive_ (you will need a Google account). Alternatively, you can download the notebook using _File_ > _Download .ipynb_, then upload it to [Colab](https://colab.research.google.com/).\n",
        "2. If you need a GPU: _Runtime_ > _Change runtime type_ > _Harware accelerator_ = _GPU_.\n",
        "3. Execute the following cell (click on it and press Ctrl+Enter) to install Julia, IJulia and other packages (if needed, update `JULIA_VERSION` and the other parameters). This takes a couple of minutes.\n",
        "4. Reload this page (press Ctrl+R, or ⌘+R, or the F5 key) and continue to the next section.\n",
        "\n",
        "_Notes_:\n",
        "* If your Colab Runtime gets reset (e.g., due to inactivity), repeat steps 2, 3 and 4.\n",
        "* After installation, if you want to change the Julia version or activate/deactivate the GPU, you will need to reset the Runtime: _Runtime_ > _Factory reset runtime_ and repeat steps 3 and 4."
      ]
    },
    {
      "cell_type": "code",
      "execution_count": null,
      "metadata": {
        "id": "GIeFXS0F0zww"
      },
      "outputs": [],
      "source": [
        "%%shell\r\n",
        "set -e\r\n",
        "\r\n",
        "#---------------------------------------------------#\r\n",
        "JULIA_VERSION=\"1.5.3\" # any version ≥ 0.7.0\r\n",
        "JULIA_PACKAGES=\"IJulia PyPlot\"\r\n",
        "JULIA_PACKAGES_IF_GPU=\"CuArrays\"\r\n",
        "JULIA_NUM_THREADS=2\r\n",
        "#---------------------------------------------------#\r\n",
        "\r\n",
        "if [ -n \"$COLAB_GPU\" ] && [ -z `which julia` ]; then\r\n",
        "  # Install Julia\r\n",
        "  JULIA_VER=`cut -d '.' -f -2 <<< \"$JULIA_VERSION\"`\r\n",
        "  echo \"Installing Julia $JULIA_VERSION on the current Colab Runtime...\"\r\n",
        "  BASE_URL=\"https://julialang-s3.julialang.org/bin/linux/x64\"\r\n",
        "  URL=\"$BASE_URL/$JULIA_VER/julia-$JULIA_VERSION-linux-x86_64.tar.gz\"\r\n",
        "  wget -nv $URL -O /tmp/julia.tar.gz # -nv means \"not verbose\"\r\n",
        "  tar -x -f /tmp/julia.tar.gz -C /usr/local --strip-components 1\r\n",
        "  rm /tmp/julia.tar.gz\r\n",
        "\r\n",
        "  # Install Packages\r\n",
        "  if [ \"$COLAB_GPU\" = \"1\" ]; then\r\n",
        "      JULIA_PACKAGES=\"$JULIA_PACKAGES $JULIA_PACKAGES_IF_GPU\"\r\n",
        "  fi\r\n",
        "  for PKG in `echo $JULIA_PACKAGES`; do\r\n",
        "    echo \"Installing Julia package $PKG...\"\r\n",
        "    julia -e 'using Pkg; pkg\"add '$PKG'; precompile;\"'\r\n",
        "  done\r\n",
        "\r\n",
        "  # Install kernel and rename it to \"julia\"\r\n",
        "  echo \"Installing IJulia kernel...\"\r\n",
        "  julia -e 'using IJulia; IJulia.installkernel(\"julia\", env=Dict(\r\n",
        "      \"JULIA_NUM_THREADS\"=>\"'\"$JULIA_NUM_THREADS\"'\"))'\r\n",
        "  KERNEL_DIR=`julia -e \"using IJulia; print(IJulia.kerneldir())\"`\r\n",
        "  KERNEL_NAME=`ls -d \"$KERNEL_DIR\"/julia*`\r\n",
        "  mv -f $KERNEL_NAME \"$KERNEL_DIR\"/julia  \r\n",
        "\r\n",
        "  echo ''\r\n",
        "  echo \"Success! Please reload this page and jump to the next section.\"\r\n",
        "fi"
      ]
    },
    {
      "cell_type": "markdown",
      "metadata": {
        "id": "-OS3Ac017T1i"
      },
      "source": [
        "# Checking the Installation\n",
        "The `versioninfo()` function should print your Julia version and some other info about the system:"
      ]
    },
    {
      "cell_type": "code",
      "execution_count": null,
      "metadata": {
        "id": "EEzvvzCl1i0F"
      },
      "outputs": [],
      "source": [
        "versioninfo()"
      ]
    },
    {
      "cell_type": "markdown",
      "metadata": {
        "id": "dWEaFvQS14vq"
      },
      "source": [
        "# Listing des paquets disponibles dans l'environnement actuel\r\n",
        "Si la librairie LibFEM est absente on peut utiliser les 2 commandes suivantes indiféremmen using Pkg; Pkg.add(PackageSpec(url=\"https://github.com/amdeld/LibFEM.jl\")) ou ]add https://github.com/amdeld/LibFEM.jl"
      ]
    },
    {
      "cell_type": "code",
      "execution_count": null,
      "metadata": {
        "id": "Ad11Ar7G1_sa"
      },
      "outputs": [],
      "source": [
        "using Pkg; Pkg.add(PackageSpec(url=\"https://github.com/amdeld/LibFEM.jl\"))"
      ]
    },
    {
      "cell_type": "markdown",
      "metadata": {
        "id": "b5ob_iAd6mlB"
      },
      "source": [
        "# On charge ensuite la librairie de calcul LibFEM et la librairie graphique PyPlot"
      ]
    },
    {
      "cell_type": "code",
      "execution_count": null,
      "metadata": {
        "id": "-Auzx46c11gB"
      },
      "outputs": [],
      "source": [
        "using LibFEM, PyPlot"
      ]
    },
    {
      "cell_type": "markdown",
      "metadata": {
        "id": "wL8h35kS7LrZ"
      },
      "source": [
        "# Quelques informations quant au cas à traiter"
      ]
    },
    {
      "cell_type": "code",
      "execution_count": null,
      "metadata": {
        "id": "VTBwWBLw7e3i"
      },
      "outputs": [],
      "source": [
        "#PARAMETERS\r\n",
        "const L=10000. #length in mm\r\n",
        "const A=100. #cross-sectional area in mm^2\r\n",
        "const E=210000. #modulus of elasticity in MPa [steel]\r\n",
        "const FM=10000.; #force modulus in N"
      ]
    },
    {
      "cell_type": "code",
      "execution_count": null,
      "metadata": {
        "id": "EmFMUlGs7rla"
      },
      "outputs": [],
      "source": [
        "# ===============================================PRE-PROCESSING==================\r\n",
        "# DEFINING AND DISCRETIZING[MESHING] THE STRUCTURE\r\n",
        "# connectivity table\r\n",
        "# elt||node_i||node_j\r\n",
        "# 1|1|3\r\n",
        "# 2|2|3\r\n",
        "# grid()\r\n",
        "X1pos=0.;Y1pos=0.\r\n",
        "X2pos=0.;Y2pos=L\r\n",
        "X3pos=L;Y3pos=L\r\n",
        "#lengths\r\n",
        "L1=d2_truss_elementlength(X1pos,Y1pos,X3pos,Y3pos) #length of element 1\r\n",
        "L2=d2_truss_elementlength(X2pos,Y2pos,X3pos,Y3pos) #length of element 2\r\n",
        "#APPLYING GEOMETRIC&MATERIAL PROPERTIES\r\n",
        "A1=sqrt(2)*A; #cross-sectional area of element 1\r\n",
        "A2=A; #cross-sectional area of element 2\r\n",
        "E1=E; #material of element 1\r\n",
        "E2=E; #material of element 2"
      ]
    },
    {
      "cell_type": "code",
      "execution_count": null,
      "metadata": {
        "id": "9j4gD4up7zaR"
      },
      "outputs": [],
      "source": [
        "#writing-defining the element stiffness matrices\r\n",
        "K1=d2_truss_elementstiffness(E1,A1,L1,45);\r\n",
        "println(\"K1=\\r\")\r\n",
        "K1"
      ]
    },
    {
      "cell_type": "code",
      "execution_count": null,
      "metadata": {
        "id": "AiAHf7dd73Qq"
      },
      "outputs": [],
      "source": [
        "K2=d2_truss_elementstiffness(E2,A2,L2,0);\r\n",
        "println(\"K2=\\r\")\r\n",
        "K2"
      ]
    },
    {
      "cell_type": "markdown",
      "metadata": {
        "id": "tih-wbxA770Z"
      },
      "source": [
        "## Affichage des matrices de raideurs positionnées $[K_1]^p$ $[K_2]^p$ et de la matrice d'assemblage $[K]$"
      ]
    },
    {
      "cell_type": "code",
      "execution_count": null,
      "metadata": {
        "id": "OUPoHcBt8CMh"
      },
      "outputs": [],
      "source": [
        "#ASSEMBLING THE GLOBAL STIFFNESS MATRIX\r\n",
        "#matrices initialization\r\n",
        "K=zeros(6,6);K1P=zeros(6,6);\r\n",
        "#positionning stiffness matrices\r\n",
        "K1P=d2_truss_assemble(K,K1,1,3)\r\n",
        "println(\"K1P=\\r\")\r\n",
        "K1P"
      ]
    },
    {
      "cell_type": "code",
      "execution_count": null,
      "metadata": {
        "id": "9kkWvFXO8HYJ"
      },
      "outputs": [],
      "source": [
        "K=zeros(6,6);K2P=zeros(6,6);\r\n",
        "K2P=d2_truss_assemble(K,K2,2,3)\r\n",
        "println(\"K2P=\\r\")\r\n",
        "K2P"
      ]
    },
    {
      "cell_type": "code",
      "execution_count": null,
      "metadata": {
        "id": "F8pQ0O-B8LDi"
      },
      "outputs": [],
      "source": [
        "#assembling\r\n",
        "K=K1P+K2P\r\n",
        "println(\"K=\\r\")\r\n",
        "K"
      ]
    },
    {
      "cell_type": "markdown",
      "metadata": {
        "id": "Qm_vfw0l8P9R"
      },
      "source": [
        "# Affichage des vecteurs des déplacements et des chargements nodaux"
      ]
    },
    {
      "cell_type": "code",
      "execution_count": null,
      "metadata": {
        "id": "gdGOqRbW8Rt5"
      },
      "outputs": [],
      "source": [
        "#SOLVING DISPACEMENT EQUATIONS\r\n",
        "#extracting displacement submatrix via index vector\r\n",
        "K_s=K[5:6,5:6]\r\n",
        "#Setting-up the force subvector by applying Load & Boundary Conditions[LBC]]\r\n",
        "F_s=[0, -FM]\r\n",
        "#solving by gaussian elimination\r\n",
        "U_s=K_s\\F_s\r\n",
        "#SOLVING FORCE EQUATIONS\r\n",
        "#setting-up the global nodal displacement vector\r\n",
        "U=[0, 0, 0, 0, U_s[1], U_s[2]]\r\n",
        "println(\"U=\\r\")\r\n",
        "U"
      ]
    },
    {
      "cell_type": "code",
      "execution_count": null,
      "metadata": {
        "id": "-PPDfJOq8YzB"
      },
      "outputs": [],
      "source": [
        "#computing the global nodal force vector\r\n",
        "F=K*U\r\n",
        "println(\"F=\\r\")\r\n",
        "F"
      ]
    },
    {
      "cell_type": "markdown",
      "metadata": {
        "id": "eAA5pcIj8czR"
      },
      "source": [
        "# Calcul et Affichage des grandeurs dérivées déformations et contraintes élémentaires"
      ]
    },
    {
      "cell_type": "code",
      "execution_count": null,
      "metadata": {
        "id": "C136lIAB8iYz"
      },
      "outputs": [],
      "source": [
        "#writing the element nodal displacement vectors\r\n",
        "U1=[U[1], U[2], U[5], U[6]]\r\n",
        "U2=[U[3], U[4], U[5], U[6]]\r\n",
        "#computing element strains\r\n",
        "ϵ1=d2_truss_elementstrain(L1,45,U1)\r\n",
        "@show ϵ1\r\n",
        "ϵ2=d2_truss_elementstrain(L2,0,U2)\r\n",
        "@show ϵ2;"
      ]
    },
    {
      "cell_type": "code",
      "execution_count": null,
      "metadata": {
        "id": "h3yV0oVy8lvi"
      },
      "outputs": [],
      "source": [
        "#computing element forces\r\n",
        "f1=d2_truss_elementforce(E1,A1,L1,45,U1)\r\n",
        "@show f1\r\n",
        "f2=d2_truss_elementforce(E2,A2,L2,0,U2)\r\n",
        "@show f2;"
      ]
    },
    {
      "cell_type": "code",
      "execution_count": null,
      "metadata": {
        "id": "w7Osr4z68poh"
      },
      "outputs": [],
      "source": [
        "#computing element stresses\r\n",
        "σ1=d2_truss_elementstress(E1,L1,45,U1)\r\n",
        "@show σ1\r\n",
        "σ2=d2_truss_elementstress(E2,L2,0,U2)\r\n",
        "@show σ2;"
      ]
    },
    {
      "cell_type": "markdown",
      "metadata": {
        "id": "UAXJLAW58v65"
      },
      "source": [
        "# Plotting"
      ]
    },
    {
      "cell_type": "code",
      "execution_count": null,
      "metadata": {
        "id": "h3pDegMP80AZ"
      },
      "outputs": [],
      "source": [
        "Xini=[X1pos, X3pos]\r\n",
        "Yini=[Y1pos, Y3pos]\r\n",
        "plot(Xini,Yini,\"ks-\")\r\n",
        "Xini=[X2pos, X3pos]\r\n",
        "Yini=[Y2pos, Y3pos]\r\n",
        "plot(Xini,Yini,\"ks-\")\r\n",
        "fampl=100\r\n",
        "Xdef=[(X1pos+fampl*U[1]), (X3pos+fampl*U[5])]\r\n",
        "Ydef=[(Y1pos+fampl*U[1]), (Y3pos+fampl*U[6])]\r\n",
        "plot(Xdef,Ydef,\"bs-\")\r\n",
        "Xdef=[(X2pos+fampl*U[3]), (X3pos+fampl*U[5])]\r\n",
        "Ydef=[(Y2pos+fampl*U[4]), (Y3pos+fampl*U[6])]\r\n",
        "plot(Xdef,Ydef,\"bs-\")"
      ]
    }
  ],
  "metadata": {
    "colab": {
      "collapsed_sections": [],
      "include_colab_link": true,
      "name": "JuliaOnColab_Exo_TD1.ipynb",
      "private_outputs": true,
      "provenance": []
    },
    "kernelspec": {
      "display_name": "Julia 1.5.0",
      "language": "julia",
      "name": "julia-1.5"
    },
    "language_info": {
      "file_extension": ".jl",
      "mimetype": "application/julia",
      "name": "julia"
    }
  },
  "nbformat": 4,
  "nbformat_minor": 0
}